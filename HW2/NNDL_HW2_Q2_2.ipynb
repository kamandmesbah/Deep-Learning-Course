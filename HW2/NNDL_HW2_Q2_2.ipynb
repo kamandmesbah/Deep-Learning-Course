{
  "nbformat": 4,
  "nbformat_minor": 0,
  "metadata": {
    "colab": {
      "provenance": [],
      "gpuType": "T4"
    },
    "kernelspec": {
      "name": "python3",
      "display_name": "Python 3"
    },
    "language_info": {
      "name": "python"
    },
    "accelerator": "GPU"
  },
  "cells": [
    {
      "cell_type": "code",
      "execution_count": null,
      "metadata": {
        "colab": {
          "base_uri": "https://localhost:8080/"
        },
        "id": "J5BK9q19HsdP",
        "outputId": "7dec54b7-b9d3-4636-e32d-05939e36f672"
      },
      "outputs": [
        {
          "output_type": "stream",
          "name": "stdout",
          "text": [
            "Drive already mounted at /content/gdrive; to attempt to forcibly remount, call drive.mount(\"/content/gdrive\", force_remount=True).\n"
          ]
        }
      ],
      "source": [
        "from google.colab import drive\n",
        "drive.mount('/content/gdrive')"
      ]
    },
    {
      "cell_type": "code",
      "execution_count": null,
      "metadata": {
        "id": "wyvWUQGkkGyh",
        "colab": {
          "base_uri": "https://localhost:8080/"
        },
        "outputId": "778f39aa-d1c5-475e-c08c-8b288648dc08"
      },
      "outputs": [
        {
          "output_type": "stream",
          "name": "stdout",
          "text": [
            "/content/gdrive/.shortcut-targets-by-id/1n51YjQLvH7GoayebFkx66qsnFAEUwF6Y/ai-ut/NNDL\n"
          ]
        }
      ],
      "source": [
        "%cd gdrive/MyDrive/ai-ut/NNDL"
      ]
    },
    {
      "cell_type": "code",
      "execution_count": null,
      "metadata": {
        "colab": {
          "base_uri": "https://localhost:8080/"
        },
        "id": "kVZoW_fF0Awm",
        "outputId": "888b5312-d073-4027-f200-bf1aa46e3352"
      },
      "outputs": [
        {
          "output_type": "stream",
          "name": "stdout",
          "text": [
            "/content/gdrive/MyDrive/NNDL\n"
          ]
        }
      ],
      "source": [
        "%cd gdrive/MyDrive/NNDL"
      ]
    },
    {
      "cell_type": "code",
      "execution_count": null,
      "metadata": {
        "colab": {
          "base_uri": "https://localhost:8080/"
        },
        "id": "AITP-vhl3Rff",
        "outputId": "54a17770-405f-407d-fe04-71477db9180f"
      },
      "outputs": [
        {
          "name": "stdout",
          "output_type": "stream",
          "text": [
            "\n",
            "UNRAR 6.11 beta 1 freeware      Copyright (c) 1993-2022 Alexander Roshal\n",
            "\n",
            "Cannot open /content/gdrive/MyDrive/Untitled Folder/NN_HW2_Face_Emotion.rar\n",
            "No such file or directory\n",
            "No files to extract\n"
          ]
        }
      ],
      "source": [
        "!unrar x \"/content/gdrive/MyDrive/Untitled Folder/NN_HW2_Face_Emotion.rar\" \"/content/AffectNet/\""
      ]
    },
    {
      "cell_type": "code",
      "source": [
        "import tensorflow as tf\n",
        "from tensorflow import keras\n",
        "from tensorflow.keras import layers\n",
        "\n",
        "# Define the paths to the training and tuning data\n",
        "train_dir = 'AffectNet/TRAIN'\n",
        "tune_dir = 'AffectNet/TUNE'\n",
        "\n",
        "# Define the dataset parameters\n",
        "batch_size = 32\n",
        "img_height = 128\n",
        "img_width = 128\n",
        "\n",
        "# Create a data augmentation layer to be included inside your model\n",
        "data_augmentation = keras.Sequential(\n",
        "  [\n",
        "    layers.RandomFlip(\"horizontal\"),\n",
        "    layers.RandomRotation(0.2),\n",
        "    layers.RandomTranslation(height_factor=0.1, width_factor=0.1),\n",
        "    layers.Rescaling(1./255) # Rescaling layer to normalize the pixel values\n",
        "  ]\n",
        ")\n",
        "\n",
        "# Load the training dataset and include the data augmentation and rescaling layers\n",
        "train_dataset = tf.keras.utils.image_dataset_from_directory(\n",
        "  train_dir,\n",
        "  validation_split=0.2,\n",
        "  subset=\"training\",\n",
        "  seed=123,\n",
        "  image_size=(img_height, img_width),\n",
        "  batch_size=batch_size)\n",
        "\n",
        "# Load the validation dataset\n",
        "validation_dataset = tf.keras.utils.image_dataset_from_directory(\n",
        "  train_dir,\n",
        "  validation_split=0.2,\n",
        "  subset=\"validation\",\n",
        "  seed=123,\n",
        "  image_size=(img_height, img_width),\n",
        "  batch_size=batch_size)\n",
        "\n",
        "# Load the tuning dataset (without augmentation for evaluation purposes)\n",
        "tune_dataset = tf.keras.utils.image_dataset_from_directory(\n",
        "  tune_dir,\n",
        "  seed=123,\n",
        "  image_size=(img_height, img_width),\n",
        "  batch_size=batch_size)\n",
        "\n",
        "# # Apply the data augmentation to the training dataset\n",
        "# augmented_train_dataset = train_dataset.map(lambda x, y: (data_augmentation(x, training=True), y))\n",
        "\n",
        "# # Remember to prefetch the datasets for performance optimization\n",
        "# AUTOTUNE = tf.data.AUTOTUNE\n",
        "# train_dataset = augmented_train_dataset.prefetch(buffer_size=AUTOTUNE)\n",
        "# validation_dataset = validation_dataset.prefetch(buffer_size=AUTOTUNE)\n",
        "# tune_dataset = tune_dataset.prefetch(buffer_size=AUTOTUNE)\n"
      ],
      "metadata": {
        "colab": {
          "base_uri": "https://localhost:8080/"
        },
        "id": "zvftpZgKrt9V",
        "outputId": "5eb869c9-414f-4e4d-8ffc-5dfc79db4c47"
      },
      "execution_count": null,
      "outputs": [
        {
          "output_type": "stream",
          "name": "stdout",
          "text": [
            "Found 8010 files belonging to 8 classes.\n",
            "Using 6408 files for training.\n",
            "Found 8010 files belonging to 8 classes.\n",
            "Using 1602 files for validation.\n",
            "Found 1600 files belonging to 8 classes.\n"
          ]
        }
      ]
    },
    {
      "cell_type": "code",
      "execution_count": null,
      "metadata": {
        "id": "pxJpm8Hckywl"
      },
      "outputs": [],
      "source": [
        "from tensorflow.keras.models import Model, Sequential\n",
        "from tensorflow.keras.layers import Input, Conv2D, MaxPooling2D, Flatten, Dense, BatchNormalization, Activation, Dropout,GaussianDropout, DepthwiseConv2D, GlobalAveragePooling2D\n",
        "from keras.optimizers import Adam\n",
        "\n",
        "def depth_conv_block(model, d, k, s):\n",
        "    model.add(DepthwiseConv2D((k, k), strides=(s, s), padding='same', use_bias=False))\n",
        "    model.add(BatchNormalization())\n",
        "    model.add(Activation('relu'))\n",
        "    model.add(Conv2D(d, (1, 1), padding='same', use_bias=False))\n",
        "    model.add(BatchNormalization())\n",
        "    model.add(Activation('relu'))\n",
        "    return model\n",
        "\n",
        "def MobileNet():\n",
        "    model = Sequential()\n",
        "    alpha = 1\n",
        "    # CONV\n",
        "    model.add(Conv2D(int(32 * alpha), (3, 3), padding='same', use_bias=False, strides=(2, 2), input_shape=(128, 128, 3)))\n",
        "    model.add(BatchNormalization())\n",
        "    model.add(Activation('relu'))\n",
        "    # DEPTHWISE CONVS\n",
        "    model = depth_conv_block(model, int(64 * alpha), 3, 1)\n",
        "\n",
        "    model = depth_conv_block(model, int(128 * alpha), 3, 2)\n",
        "    model = depth_conv_block(model, int(128 * alpha), 3, 1)\n",
        "\n",
        "    model = depth_conv_block(model, int(256 * alpha), 3, 2)\n",
        "    model = depth_conv_block(model, int(256 * alpha), 3, 1)\n",
        "\n",
        "    model = depth_conv_block(model, int(512 * alpha), 3, 2)\n",
        "    model = depth_conv_block(model, int(512 * alpha), 3, 1)\n",
        "    model = depth_conv_block(model, int(512 * alpha), 3, 1)\n",
        "    model = depth_conv_block(model, int(512 * alpha), 3, 1)\n",
        "    model = depth_conv_block(model, int(512 * alpha), 3, 1)\n",
        "    model = depth_conv_block(model, int(512 * alpha), 3, 1)\n",
        "\n",
        "    model = depth_conv_block(model, int(1024 * alpha), 3, 2)\n",
        "    model = depth_conv_block(model, int(1024 * alpha), 3, 1)\n",
        "    # FLATTEN\n",
        "    model.add(GlobalAveragePooling2D())\n",
        "    model.add(Dropout(0.3))\n",
        "    # OUTPUT\n",
        "    model.add(Dense(8, activation='softmax'))\n",
        "    # model.compile(loss='sparse_categorical_crossentropy', optimizer=Adam(learning_rate=0.005, clipnorm=1.0), metrics=['accuracy'])\n",
        "    model.compile(loss='sparse_categorical_crossentropy', optimizer='adam', metrics=['accuracy'])\n",
        "\n",
        "    # Summary of the model\n",
        "    model.summary()\n",
        "\n",
        "    return model"
      ]
    },
    {
      "cell_type": "code",
      "execution_count": null,
      "metadata": {
        "colab": {
          "base_uri": "https://localhost:8080/"
        },
        "id": "bd5IGESq-LCE",
        "outputId": "8013f48a-c020-4077-91be-5292eb236f69"
      },
      "outputs": [
        {
          "output_type": "stream",
          "name": "stdout",
          "text": [
            "Model: \"sequential_8\"\n",
            "_________________________________________________________________\n",
            " Layer (type)                Output Shape              Param #   \n",
            "=================================================================\n",
            " conv2d_84 (Conv2D)          (None, 64, 64, 32)        864       \n",
            "                                                                 \n",
            " batch_normalization_162 (B  (None, 64, 64, 32)        128       \n",
            " atchNormalization)                                              \n",
            "                                                                 \n",
            " activation_162 (Activation  (None, 64, 64, 32)        0         \n",
            " )                                                               \n",
            "                                                                 \n",
            " depthwise_conv2d_78 (Depth  (None, 64, 64, 32)        288       \n",
            " wiseConv2D)                                                     \n",
            "                                                                 \n",
            " batch_normalization_163 (B  (None, 64, 64, 32)        128       \n",
            " atchNormalization)                                              \n",
            "                                                                 \n",
            " activation_163 (Activation  (None, 64, 64, 32)        0         \n",
            " )                                                               \n",
            "                                                                 \n",
            " conv2d_85 (Conv2D)          (None, 64, 64, 64)        2048      \n",
            "                                                                 \n",
            " batch_normalization_164 (B  (None, 64, 64, 64)        256       \n",
            " atchNormalization)                                              \n",
            "                                                                 \n",
            " activation_164 (Activation  (None, 64, 64, 64)        0         \n",
            " )                                                               \n",
            "                                                                 \n",
            " depthwise_conv2d_79 (Depth  (None, 32, 32, 64)        576       \n",
            " wiseConv2D)                                                     \n",
            "                                                                 \n",
            " batch_normalization_165 (B  (None, 32, 32, 64)        256       \n",
            " atchNormalization)                                              \n",
            "                                                                 \n",
            " activation_165 (Activation  (None, 32, 32, 64)        0         \n",
            " )                                                               \n",
            "                                                                 \n",
            " conv2d_86 (Conv2D)          (None, 32, 32, 128)       8192      \n",
            "                                                                 \n",
            " batch_normalization_166 (B  (None, 32, 32, 128)       512       \n",
            " atchNormalization)                                              \n",
            "                                                                 \n",
            " activation_166 (Activation  (None, 32, 32, 128)       0         \n",
            " )                                                               \n",
            "                                                                 \n",
            " depthwise_conv2d_80 (Depth  (None, 32, 32, 128)       1152      \n",
            " wiseConv2D)                                                     \n",
            "                                                                 \n",
            " batch_normalization_167 (B  (None, 32, 32, 128)       512       \n",
            " atchNormalization)                                              \n",
            "                                                                 \n",
            " activation_167 (Activation  (None, 32, 32, 128)       0         \n",
            " )                                                               \n",
            "                                                                 \n",
            " conv2d_87 (Conv2D)          (None, 32, 32, 128)       16384     \n",
            "                                                                 \n",
            " batch_normalization_168 (B  (None, 32, 32, 128)       512       \n",
            " atchNormalization)                                              \n",
            "                                                                 \n",
            " activation_168 (Activation  (None, 32, 32, 128)       0         \n",
            " )                                                               \n",
            "                                                                 \n",
            " depthwise_conv2d_81 (Depth  (None, 16, 16, 128)       1152      \n",
            " wiseConv2D)                                                     \n",
            "                                                                 \n",
            " batch_normalization_169 (B  (None, 16, 16, 128)       512       \n",
            " atchNormalization)                                              \n",
            "                                                                 \n",
            " activation_169 (Activation  (None, 16, 16, 128)       0         \n",
            " )                                                               \n",
            "                                                                 \n",
            " conv2d_88 (Conv2D)          (None, 16, 16, 256)       32768     \n",
            "                                                                 \n",
            " batch_normalization_170 (B  (None, 16, 16, 256)       1024      \n",
            " atchNormalization)                                              \n",
            "                                                                 \n",
            " activation_170 (Activation  (None, 16, 16, 256)       0         \n",
            " )                                                               \n",
            "                                                                 \n",
            " depthwise_conv2d_82 (Depth  (None, 16, 16, 256)       2304      \n",
            " wiseConv2D)                                                     \n",
            "                                                                 \n",
            " batch_normalization_171 (B  (None, 16, 16, 256)       1024      \n",
            " atchNormalization)                                              \n",
            "                                                                 \n",
            " activation_171 (Activation  (None, 16, 16, 256)       0         \n",
            " )                                                               \n",
            "                                                                 \n",
            " conv2d_89 (Conv2D)          (None, 16, 16, 256)       65536     \n",
            "                                                                 \n",
            " batch_normalization_172 (B  (None, 16, 16, 256)       1024      \n",
            " atchNormalization)                                              \n",
            "                                                                 \n",
            " activation_172 (Activation  (None, 16, 16, 256)       0         \n",
            " )                                                               \n",
            "                                                                 \n",
            " depthwise_conv2d_83 (Depth  (None, 8, 8, 256)         2304      \n",
            " wiseConv2D)                                                     \n",
            "                                                                 \n",
            " batch_normalization_173 (B  (None, 8, 8, 256)         1024      \n",
            " atchNormalization)                                              \n",
            "                                                                 \n",
            " activation_173 (Activation  (None, 8, 8, 256)         0         \n",
            " )                                                               \n",
            "                                                                 \n",
            " conv2d_90 (Conv2D)          (None, 8, 8, 512)         131072    \n",
            "                                                                 \n",
            " batch_normalization_174 (B  (None, 8, 8, 512)         2048      \n",
            " atchNormalization)                                              \n",
            "                                                                 \n",
            " activation_174 (Activation  (None, 8, 8, 512)         0         \n",
            " )                                                               \n",
            "                                                                 \n",
            " depthwise_conv2d_84 (Depth  (None, 8, 8, 512)         4608      \n",
            " wiseConv2D)                                                     \n",
            "                                                                 \n",
            " batch_normalization_175 (B  (None, 8, 8, 512)         2048      \n",
            " atchNormalization)                                              \n",
            "                                                                 \n",
            " activation_175 (Activation  (None, 8, 8, 512)         0         \n",
            " )                                                               \n",
            "                                                                 \n",
            " conv2d_91 (Conv2D)          (None, 8, 8, 512)         262144    \n",
            "                                                                 \n",
            " batch_normalization_176 (B  (None, 8, 8, 512)         2048      \n",
            " atchNormalization)                                              \n",
            "                                                                 \n",
            " activation_176 (Activation  (None, 8, 8, 512)         0         \n",
            " )                                                               \n",
            "                                                                 \n",
            " depthwise_conv2d_85 (Depth  (None, 8, 8, 512)         4608      \n",
            " wiseConv2D)                                                     \n",
            "                                                                 \n",
            " batch_normalization_177 (B  (None, 8, 8, 512)         2048      \n",
            " atchNormalization)                                              \n",
            "                                                                 \n",
            " activation_177 (Activation  (None, 8, 8, 512)         0         \n",
            " )                                                               \n",
            "                                                                 \n",
            " conv2d_92 (Conv2D)          (None, 8, 8, 512)         262144    \n",
            "                                                                 \n",
            " batch_normalization_178 (B  (None, 8, 8, 512)         2048      \n",
            " atchNormalization)                                              \n",
            "                                                                 \n",
            " activation_178 (Activation  (None, 8, 8, 512)         0         \n",
            " )                                                               \n",
            "                                                                 \n",
            " depthwise_conv2d_86 (Depth  (None, 8, 8, 512)         4608      \n",
            " wiseConv2D)                                                     \n",
            "                                                                 \n",
            " batch_normalization_179 (B  (None, 8, 8, 512)         2048      \n",
            " atchNormalization)                                              \n",
            "                                                                 \n",
            " activation_179 (Activation  (None, 8, 8, 512)         0         \n",
            " )                                                               \n",
            "                                                                 \n",
            " conv2d_93 (Conv2D)          (None, 8, 8, 512)         262144    \n",
            "                                                                 \n",
            " batch_normalization_180 (B  (None, 8, 8, 512)         2048      \n",
            " atchNormalization)                                              \n",
            "                                                                 \n",
            " activation_180 (Activation  (None, 8, 8, 512)         0         \n",
            " )                                                               \n",
            "                                                                 \n",
            " depthwise_conv2d_87 (Depth  (None, 8, 8, 512)         4608      \n",
            " wiseConv2D)                                                     \n",
            "                                                                 \n",
            " batch_normalization_181 (B  (None, 8, 8, 512)         2048      \n",
            " atchNormalization)                                              \n",
            "                                                                 \n",
            " activation_181 (Activation  (None, 8, 8, 512)         0         \n",
            " )                                                               \n",
            "                                                                 \n",
            " conv2d_94 (Conv2D)          (None, 8, 8, 512)         262144    \n",
            "                                                                 \n",
            " batch_normalization_182 (B  (None, 8, 8, 512)         2048      \n",
            " atchNormalization)                                              \n",
            "                                                                 \n",
            " activation_182 (Activation  (None, 8, 8, 512)         0         \n",
            " )                                                               \n",
            "                                                                 \n",
            " depthwise_conv2d_88 (Depth  (None, 8, 8, 512)         4608      \n",
            " wiseConv2D)                                                     \n",
            "                                                                 \n",
            " batch_normalization_183 (B  (None, 8, 8, 512)         2048      \n",
            " atchNormalization)                                              \n",
            "                                                                 \n",
            " activation_183 (Activation  (None, 8, 8, 512)         0         \n",
            " )                                                               \n",
            "                                                                 \n",
            " conv2d_95 (Conv2D)          (None, 8, 8, 512)         262144    \n",
            "                                                                 \n",
            " batch_normalization_184 (B  (None, 8, 8, 512)         2048      \n",
            " atchNormalization)                                              \n",
            "                                                                 \n",
            " activation_184 (Activation  (None, 8, 8, 512)         0         \n",
            " )                                                               \n",
            "                                                                 \n",
            " depthwise_conv2d_89 (Depth  (None, 4, 4, 512)         4608      \n",
            " wiseConv2D)                                                     \n",
            "                                                                 \n",
            " batch_normalization_185 (B  (None, 4, 4, 512)         2048      \n",
            " atchNormalization)                                              \n",
            "                                                                 \n",
            " activation_185 (Activation  (None, 4, 4, 512)         0         \n",
            " )                                                               \n",
            "                                                                 \n",
            " conv2d_96 (Conv2D)          (None, 4, 4, 1024)        524288    \n",
            "                                                                 \n",
            " batch_normalization_186 (B  (None, 4, 4, 1024)        4096      \n",
            " atchNormalization)                                              \n",
            "                                                                 \n",
            " activation_186 (Activation  (None, 4, 4, 1024)        0         \n",
            " )                                                               \n",
            "                                                                 \n",
            " depthwise_conv2d_90 (Depth  (None, 4, 4, 1024)        9216      \n",
            " wiseConv2D)                                                     \n",
            "                                                                 \n",
            " batch_normalization_187 (B  (None, 4, 4, 1024)        4096      \n",
            " atchNormalization)                                              \n",
            "                                                                 \n",
            " activation_187 (Activation  (None, 4, 4, 1024)        0         \n",
            " )                                                               \n",
            "                                                                 \n",
            " conv2d_97 (Conv2D)          (None, 4, 4, 1024)        1048576   \n",
            "                                                                 \n",
            " batch_normalization_188 (B  (None, 4, 4, 1024)        4096      \n",
            " atchNormalization)                                              \n",
            "                                                                 \n",
            " activation_188 (Activation  (None, 4, 4, 1024)        0         \n",
            " )                                                               \n",
            "                                                                 \n",
            " global_average_pooling2d_6  (None, 1024)              0         \n",
            "  (GlobalAveragePooling2D)                                       \n",
            "                                                                 \n",
            " dropout_6 (Dropout)         (None, 1024)              0         \n",
            "                                                                 \n",
            " dense_6 (Dense)             (None, 8)                 8200      \n",
            "                                                                 \n",
            "=================================================================\n",
            "Total params: 3237064 (12.35 MB)\n",
            "Trainable params: 3215176 (12.26 MB)\n",
            "Non-trainable params: 21888 (85.50 KB)\n",
            "_________________________________________________________________\n"
          ]
        }
      ],
      "source": [
        "model = MobileNet()"
      ]
    },
    {
      "cell_type": "code",
      "execution_count": null,
      "metadata": {
        "id": "iaKJ_Hzmqsse",
        "colab": {
          "base_uri": "https://localhost:8080/"
        },
        "outputId": "e63c1ad4-c8ac-4e04-84a7-d3f9d7b1b3f5"
      },
      "outputs": [
        {
          "output_type": "stream",
          "name": "stdout",
          "text": [
            "Epoch 1/10\n",
            "201/201 [==============================] - 29s 82ms/step - loss: 2.1362 - accuracy: 0.1667 - val_loss: 2.3130 - val_accuracy: 0.1223\n",
            "Epoch 2/10\n",
            "201/201 [==============================] - 16s 79ms/step - loss: 1.7476 - accuracy: 0.2718 - val_loss: 2.3014 - val_accuracy: 0.1223\n",
            "Epoch 3/10\n",
            "201/201 [==============================] - 16s 78ms/step - loss: 1.6535 - accuracy: 0.3099 - val_loss: 2.0554 - val_accuracy: 0.2135\n",
            "Epoch 4/10\n",
            "201/201 [==============================] - 16s 77ms/step - loss: 1.5813 - accuracy: 0.3514 - val_loss: 1.5326 - val_accuracy: 0.3783\n",
            "Epoch 5/10\n",
            "201/201 [==============================] - 15s 73ms/step - loss: 1.4993 - accuracy: 0.3853 - val_loss: 1.6856 - val_accuracy: 0.3489\n",
            "Epoch 6/10\n",
            "201/201 [==============================] - 18s 85ms/step - loss: 1.3924 - accuracy: 0.4380 - val_loss: 1.6338 - val_accuracy: 0.3677\n",
            "Epoch 7/10\n",
            "201/201 [==============================] - 16s 77ms/step - loss: 1.3311 - accuracy: 0.4663 - val_loss: 1.7200 - val_accuracy: 0.3433\n",
            "Epoch 8/10\n",
            "201/201 [==============================] - 16s 76ms/step - loss: 1.2583 - accuracy: 0.5019 - val_loss: 1.6731 - val_accuracy: 0.3945\n",
            "Epoch 9/10\n",
            "201/201 [==============================] - 17s 84ms/step - loss: 1.1946 - accuracy: 0.5473 - val_loss: 1.5339 - val_accuracy: 0.4345\n",
            "Epoch 10/10\n",
            "201/201 [==============================] - 17s 81ms/step - loss: 1.1621 - accuracy: 0.5482 - val_loss: 1.5668 - val_accuracy: 0.4295\n",
            "Epoch 10/15\n",
            "50/50 [==============================] - 379s 6s/step - loss: 1.9702 - accuracy: 0.3512 - val_loss: 1.5980 - val_accuracy: 0.4326\n",
            "Epoch 11/15\n",
            "50/50 [==============================] - 8s 153ms/step - loss: 1.4499 - accuracy: 0.4731 - val_loss: 1.5990 - val_accuracy: 0.4182\n",
            "Epoch 12/15\n",
            "50/50 [==============================] - 5s 90ms/step - loss: 1.2036 - accuracy: 0.5612 - val_loss: 1.5414 - val_accuracy: 0.4313\n",
            "Epoch 13/15\n",
            "50/50 [==============================] - 5s 88ms/step - loss: 0.9412 - accuracy: 0.6919 - val_loss: 1.5579 - val_accuracy: 0.4338\n",
            "Epoch 14/15\n",
            "50/50 [==============================] - 9s 172ms/step - loss: 0.6414 - accuracy: 0.8188 - val_loss: 1.5927 - val_accuracy: 0.4170\n",
            "Epoch 15/15\n",
            "50/50 [==============================] - 5s 89ms/step - loss: 0.3733 - accuracy: 0.9075 - val_loss: 1.7073 - val_accuracy: 0.4064\n"
          ]
        },
        {
          "output_type": "stream",
          "name": "stderr",
          "text": [
            "/usr/local/lib/python3.10/dist-packages/keras/src/engine/training.py:3079: UserWarning: You are saving your model as an HDF5 file via `model.save()`. This file format is considered legacy. We recommend using instead the native Keras format, e.g. `model.save('my_model.keras')`.\n",
            "  saving_api.save_model(\n"
          ]
        }
      ],
      "source": [
        "from tensorflow.keras.optimizers import Adam\n",
        "\n",
        "# Assuming 'model' is your pre-defined Keras model\n",
        "\n",
        "# Compile the model\n",
        "# model.compile(optimizer=Adam(learning_rate=0.001, beta_1=0.9, beta_2=0.999, epsilon=1e-8), loss='categorical_crossentropy', metrics=['accuracy'])\n",
        "\n",
        "# Train the model\n",
        "initial_epochs = 10  # for example, set the number of epochs for initial training\n",
        "history = model.fit(\n",
        "    train_dataset,\n",
        "    epochs=initial_epochs,\n",
        "    batch_size=32,\n",
        "    validation_data=validation_dataset\n",
        ")\n",
        "\n",
        "# Now, let's fine-tune the model\n",
        "# For fine-tuning, you might want to modify the learning rate, unfreeze some layers etc.\n",
        "# This part depends on your specific model and approach\n",
        "model.compile(optimizer=Adam(learning_rate=0.0001),  # Reduced learning rate for fine-tuning\n",
        "              loss='sparse_categorical_crossentropy',\n",
        "              metrics=['accuracy'])\n",
        "\n",
        "fine_tune_epochs = 5  # Set the number of fine-tuning epochs\n",
        "total_epochs = initial_epochs + fine_tune_epochs\n",
        "\n",
        "# Fine-tune the model\n",
        "fine_tune_history = model.fit(\n",
        "    tune_dataset,\n",
        "    epochs=total_epochs,\n",
        "    initial_epoch=history.epoch[-1],\n",
        "    validation_data=validation_dataset\n",
        ")\n",
        "\n",
        "# Save the model if necessary\n",
        "model.save('path_to_my_model.h5')\n"
      ]
    },
    {
      "cell_type": "code",
      "execution_count": null,
      "metadata": {
        "id": "5Hg1p6L6JB19"
      },
      "outputs": [],
      "source": [
        "model.compile(loss='categorical_crossentropy', optimizer='adam', metrics=['accuracy'])\n",
        "\n",
        "additional_epochs = 10\n",
        "# Continue training the model\n",
        "continued_history = model.fit(\n",
        "    train_generator,\n",
        "    epochs=additional_epochs+initial_epochs,\n",
        "    initial_epoch=history.epoch[-1] + 1,\n",
        "    validation_data=validation_generator\n",
        ")\n",
        "\n",
        "model.compile(optimizer=Adam(learning_rate=0.0001),  # Reduced learning rate for fine-tuning\n",
        "              loss='categorical_crossentropy',\n",
        "              metrics=['accuracy'])\n",
        "\n",
        "additional_fine_tune_epochs = 5\n",
        "# Fine-tune the model again\n",
        "additional_fine_tune_history = model.fit(\n",
        "    tune_generator,\n",
        "    epochs=additional_fine_tune_epochs+total_epochs,\n",
        "    initial_epoch=fine_tune_history.epoch[-1] + 1,\n",
        "    validation_data=validation_generator\n",
        ")\n",
        "\n",
        "# Combine the history from the previous training session with the new one\n",
        "# Note that 'history.history' is a dictionary with keys for each metric\n",
        "# For each metric, extend the list with the values from the continued training\n",
        "for key in history.history:\n",
        "    history.history[key].extend(continued_history.history[key])\n",
        "\n",
        "for key in fine_tune_history.history:\n",
        "    fine_tune_history.history[key].extend(additional_fine_tune_history.history[key])"
      ]
    },
    {
      "cell_type": "code",
      "execution_count": null,
      "metadata": {
        "colab": {
          "base_uri": "https://localhost:8080/",
          "height": 410
        },
        "id": "lPp_fNmF_SVv",
        "outputId": "4d7c2f36-c17f-4e67-8151-2317b09c0d18"
      },
      "outputs": [
        {
          "output_type": "display_data",
          "data": {
            "text/plain": [
              "<Figure size 1200x400 with 2 Axes>"
            ],
            "image/png": "[encoded data removed]"
          },
          "metadata": {}
        }
      ],
      "source": [
        "import matplotlib.pyplot as plt\n",
        "from sklearn.metrics import roc_curve, auc, precision_recall_fscore_support, confusion_matrix\n",
        "from sklearn.preprocessing import label_binarize\n",
        "from keras.optimizers import Adam\n",
        "from keras.callbacks import ModelCheckpoint\n",
        "\n",
        "# Plotting Loss and Accuracy curves\n",
        "plt.figure(figsize=(12, 4))\n",
        "plt.subplot(1, 2, 1)\n",
        "plt.plot(history.history['loss'], label='Training Loss')\n",
        "plt.plot(history.history['val_loss'], label='Validation Loss')\n",
        "plt.title('Loss Curves')\n",
        "plt.xlabel('Epoch')\n",
        "plt.ylabel('Loss')\n",
        "plt.legend()\n",
        "\n",
        "plt.subplot(1, 2, 2)\n",
        "plt.plot(history.history['accuracy'], label='Training Accuracy')\n",
        "plt.plot(history.history['val_accuracy'], label='Validation Accuracy')\n",
        "plt.title('Accuracy Curves')\n",
        "plt.xlabel('Epoch')\n",
        "plt.ylabel('Accuracy')\n",
        "plt.legend()\n",
        "plt.show()"
      ]
    }
  ]
}