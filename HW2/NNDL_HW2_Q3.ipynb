{
  "nbformat": 4,
  "nbformat_minor": 0,
  "metadata": {
    "colab": {
      "provenance": []
    },
    "kernelspec": {
      "name": "python3",
      "display_name": "Python 3"
    },
    "language_info": {
      "name": "python"
    }
  },
  "cells": [
    {
      "cell_type": "code",
      "source": [
        "from google.colab import drive\n",
        "drive.mount('/content/drive')"
      ],
      "metadata": {
        "colab": {
          "base_uri": "https://localhost:8080/"
        },
        "id": "Foci7R3pdGzr",
        "outputId": "68580e31-b472-46b3-b0c6-bab89ac3e949"
      },
      "execution_count": null,
      "outputs": [
        {
          "output_type": "stream",
          "name": "stdout",
          "text": [
            "Mounted at /content/drive\n"
          ]
        }
      ]
    },
    {
      "cell_type": "code",
      "execution_count": null,
      "metadata": {
        "id": "K-VzE-b9kwt-"
      },
      "outputs": [],
      "source": [
        "!unzip '/content/drive/MyDrive/NNDL/HW2/Q3/Dataset.zip'\n"
      ]
    },
    {
      "cell_type": "code",
      "source": [
        "!rm -rf \"/content/Dataset/xray_dataset_covid19/augmentation\""
      ],
      "metadata": {
        "id": "UG6uOH7G6t9d"
      },
      "execution_count": null,
      "outputs": []
    },
    {
      "cell_type": "code",
      "source": [
        "import tensorflow"
      ],
      "metadata": {
        "id": "16Ot-gFeqT5N"
      },
      "execution_count": null,
      "outputs": []
    },
    {
      "cell_type": "code",
      "source": [
        "import os\n",
        "from tensorflow.keras.preprocessing.image import load_img, img_to_array, array_to_img\n",
        "from PIL import Image\n",
        "\n",
        "def rotate_images(folder_path, save_folder, angle):\n",
        "    # Create the save folder if it doesn't exist\n",
        "    if save_folder and not os.path.exists(save_folder):\n",
        "        os.makedirs(save_folder)\n",
        "\n",
        "    for filename in os.listdir(folder_path):\n",
        "        if filename.endswith((\".png\", \".jpg\", \".jpeg\")):\n",
        "            file_path = os.path.join(folder_path, filename)\n",
        "\n",
        "            # Load the image\n",
        "            image = load_img(file_path)\n",
        "            image = img_to_array(image)\n",
        "\n",
        "            # Rotate the image\n",
        "            rotated_image = Image.fromarray(image.astype('uint8'), 'RGB').rotate(angle, expand=True)\n",
        "\n",
        "            # Save the rotated image\n",
        "            if save_folder:\n",
        "                save_path = os.path.join(save_folder, str(angle)+filename)\n",
        "            else:\n",
        "                save_path = file_path  # Overwrite the original image\n",
        "\n",
        "            rotated_image.save(save_path)\n",
        "\n",
        "\n",
        "\n",
        "def flip_images(folder_path, save_folder, flip_horizontal=True, flip_vertical=False):\n",
        "    # Create the save folder if it doesn't exist\n",
        "    if save_folder and not os.path.exists(save_folder):\n",
        "        os.makedirs(save_folder)\n",
        "\n",
        "    for filename in os.listdir(folder_path):\n",
        "        if filename.endswith((\".png\", \".jpg\", \".jpeg\")):\n",
        "            file_path = os.path.join(folder_path, filename)\n",
        "\n",
        "            # Load the image\n",
        "            image = load_img(file_path)\n",
        "            image = img_to_array(image)\n",
        "            image = Image.fromarray(image.astype('uint8'), 'RGB')\n",
        "\n",
        "            # Flip the image if specified\n",
        "            if flip_horizontal:\n",
        "                image = image.transpose(Image.FLIP_LEFT_RIGHT)\n",
        "            if flip_vertical:\n",
        "                image = image.transpose(Image.FLIP_TOP_BOTTOM)\n",
        "\n",
        "            # Save the flipped image\n",
        "            if save_folder:\n",
        "                save_path = os.path.join(save_folder, 'fillped'+filename)\n",
        "            else:\n",
        "                save_path = file_path  # Overwrite the original image\n",
        "\n",
        "            image.save(save_path)\n",
        "\n",
        "angles  = [0,90,180,270]\n",
        "for angle in angles :\n",
        "    folder_path = '/content/Dataset/xray_dataset_covid19/train/COVID'\n",
        "    save_folder = '/content/Dataset/xray_dataset_covid19/augmentation/train/COVID'\n",
        "    rotate_images(folder_path, save_folder , angle)\n",
        "\n",
        "    folder_path = '/content/Dataset/xray_dataset_covid19/train/NORMAL'\n",
        "    save_folder = '/content/Dataset/xray_dataset_covid19/augmentation/train/NORMAL'\n",
        "    rotate_images(folder_path, save_folder , angle)\n",
        "\n",
        "\n",
        "folder_path = '/content/Dataset/xray_dataset_covid19/train/COVID'\n",
        "save_folder = '/content/Dataset/xray_dataset_covid19/augmentation/train/COVID'\n",
        "flip_images(folder_path, save_folder)\n",
        "\n",
        "\n",
        "folder_path = '/content/Dataset/xray_dataset_covid19/train/NORMAL'\n",
        "save_folder = '/content/Dataset/xray_dataset_covid19/augmentation/train/NORMAL'\n",
        "flip_images(folder_path, save_folder)\n"
      ],
      "metadata": {
        "id": "iZ4dAk4StT13"
      },
      "execution_count": null,
      "outputs": []
    },
    {
      "cell_type": "code",
      "source": [
        "\n",
        "from tensorflow.keras.preprocessing.image import ImageDataGenerator\n",
        "\n",
        "\n",
        "\n",
        "train_ds = tensorflow.keras.utils.image_dataset_from_directory(\n",
        "    directory ='/content/Dataset/xray_dataset_covid19/augmentation/train',\n",
        "    image_size = (150, 150),\n",
        "    validation_split = 0.15,\n",
        "    subset = \"training\",\n",
        "    seed = 42,\n",
        "    shuffle = True\n",
        "    )\n",
        "\n",
        "\n",
        "val_ds = tensorflow.keras.utils.image_dataset_from_directory(\n",
        "    directory ='/content/Dataset/xray_dataset_covid19/augmentation/train',\n",
        "    image_size = (150, 150),\n",
        "    validation_split = 0.15,\n",
        "    subset = \"validation\",\n",
        "    seed = 42,\n",
        "    shuffle = True\n",
        "    )\n"
      ],
      "metadata": {
        "colab": {
          "base_uri": "https://localhost:8080/"
        },
        "id": "LlZLI0qGpvN_",
        "outputId": "37954892-1935-4188-a1b4-115148ada6b8"
      },
      "execution_count": null,
      "outputs": [
        {
          "output_type": "stream",
          "name": "stdout",
          "text": [
            "Found 740 files belonging to 2 classes.\n",
            "Using 629 files for training.\n",
            "Found 740 files belonging to 2 classes.\n",
            "Using 111 files for validation.\n"
          ]
        }
      ]
    },
    {
      "cell_type": "code",
      "source": [
        "from tensorflow.keras.models import Sequential\n",
        "from tensorflow.keras.layers import Conv2D, MaxPooling2D, BatchNormalization, Flatten, Dense, Dropout\n",
        "from tensorflow.keras.activations import relu\n",
        "from tensorflow.keras.layers import Activation  # Add this import for Activation\n",
        "from tensorflow.keras.optimizers import Adam\n",
        "\n",
        "# Create a Sequential model\n",
        "model = Sequential()\n",
        "\n",
        "# Convolutional Layer 1\n",
        "model.add(Conv2D(64, (3, 3), activation=None, input_shape=(150, 150, 3)))\n",
        "model.add(BatchNormalization(axis=-1))\n",
        "model.add(Activation('relu'))\n",
        "model.add(MaxPooling2D(pool_size=(2, 2)))\n",
        "model.add(Dropout(0.2))\n",
        "\n",
        "# Convolutional Layer 2\n",
        "model.add(Conv2D(64, (3, 3), activation=None))\n",
        "model.add(BatchNormalization(axis=-1))\n",
        "model.add(Activation('relu'))\n",
        "model.add(MaxPooling2D(pool_size=(2, 2)))\n",
        "model.add(Dropout(0.2))\n",
        "\n",
        "# Convolutional Layer 3\n",
        "model.add(Conv2D(128, (3, 3), activation=None))\n",
        "model.add(BatchNormalization(axis=-1))\n",
        "model.add(Activation('relu'))\n",
        "model.add(MaxPooling2D(pool_size=(2, 2)))\n",
        "model.add(Dropout(0.2))\n",
        "\n",
        "# Convolutional Layer 4\n",
        "model.add(Conv2D(128, (3, 3), activation=None))\n",
        "model.add(BatchNormalization(axis=-1))\n",
        "model.add(Activation('relu'))\n",
        "model.add(MaxPooling2D(pool_size=(2, 2)))\n",
        "model.add(Dropout(0.2))\n",
        "\n",
        "# Convolutional Layer 5\n",
        "model.add(Conv2D(256, (3, 3), activation=None))\n",
        "model.add(BatchNormalization(axis=-1))\n",
        "model.add(Activation('relu'))\n",
        "model.add(MaxPooling2D(pool_size=(2, 2)))\n",
        "model.add(Dropout(0.2))\n",
        "\n",
        "# Convolutional Layer 6\n",
        "model.add(Conv2D(256, (3, 3), padding='same', activation=None))\n",
        "model.add(BatchNormalization(axis=-1))\n",
        "model.add(Activation('relu'))\n",
        "model.add(MaxPooling2D(pool_size=(2, 2)))\n",
        "model.add(Dropout(0.2))\n",
        "\n",
        "\n",
        "# Flatten the feature maps\n",
        "model.add(Flatten())\n",
        "\n",
        "# Fully Connected Layer 1\n",
        "model.add(Dense(512, activation='relu'))\n",
        "model.add(BatchNormalization(axis=-1))\n",
        "# Fully Connected Layer 2\n",
        "model.add(Dense(256, activation='relu'))\n",
        "model.add(BatchNormalization(axis=-1))\n",
        "# Fully Connected Layer 3\n",
        "model.add(Dense(1, activation='sigmoid'))\n",
        "\n",
        "\n",
        "optimizer = Adam(learning_rate=0.0006)\n",
        "\n",
        "# Compile the model\n",
        "model.compile(loss='binary_crossentropy', optimizer=optimizer, metrics=['accuracy'])\n",
        "\n",
        "# Print the model summary\n",
        "model.summary()\n"
      ],
      "metadata": {
        "id": "p-sXoICDvO96",
        "colab": {
          "base_uri": "https://localhost:8080/"
        },
        "outputId": "4b32cc20-057c-484c-9c34-ccc2f7fc5eb1"
      },
      "execution_count": null,
      "outputs": [
        {
          "output_type": "stream",
          "name": "stdout",
          "text": [
            "Model: \"sequential\"\n",
            "_________________________________________________________________\n",
            " Layer (type)                Output Shape              Param #   \n",
            "=================================================================\n",
            " conv2d (Conv2D)             (None, 148, 148, 64)      1792      \n",
            "                                                                 \n",
            " batch_normalization (Batch  (None, 148, 148, 64)      256       \n",
            " Normalization)                                                  \n",
            "                                                                 \n",
            " activation (Activation)     (None, 148, 148, 64)      0         \n",
            "                                                                 \n",
            " max_pooling2d (MaxPooling2  (None, 74, 74, 64)        0         \n",
            " D)                                                              \n",
            "                                                                 \n",
            " dropout (Dropout)           (None, 74, 74, 64)        0         \n",
            "                                                                 \n",
            " conv2d_1 (Conv2D)           (None, 72, 72, 64)        36928     \n",
            "                                                                 \n",
            " batch_normalization_1 (Bat  (None, 72, 72, 64)        256       \n",
            " chNormalization)                                                \n",
            "                                                                 \n",
            " activation_1 (Activation)   (None, 72, 72, 64)        0         \n",
            "                                                                 \n",
            " max_pooling2d_1 (MaxPoolin  (None, 36, 36, 64)        0         \n",
            " g2D)                                                            \n",
            "                                                                 \n",
            " dropout_1 (Dropout)         (None, 36, 36, 64)        0         \n",
            "                                                                 \n",
            " conv2d_2 (Conv2D)           (None, 34, 34, 128)       73856     \n",
            "                                                                 \n",
            " batch_normalization_2 (Bat  (None, 34, 34, 128)       512       \n",
            " chNormalization)                                                \n",
            "                                                                 \n",
            " activation_2 (Activation)   (None, 34, 34, 128)       0         \n",
            "                                                                 \n",
            " max_pooling2d_2 (MaxPoolin  (None, 17, 17, 128)       0         \n",
            " g2D)                                                            \n",
            "                                                                 \n",
            " dropout_2 (Dropout)         (None, 17, 17, 128)       0         \n",
            "                                                                 \n",
            " conv2d_3 (Conv2D)           (None, 15, 15, 128)       147584    \n",
            "                                                                 \n",
            " batch_normalization_3 (Bat  (None, 15, 15, 128)       512       \n",
            " chNormalization)                                                \n",
            "                                                                 \n",
            " activation_3 (Activation)   (None, 15, 15, 128)       0         \n",
            "                                                                 \n",
            " max_pooling2d_3 (MaxPoolin  (None, 7, 7, 128)         0         \n",
            " g2D)                                                            \n",
            "                                                                 \n",
            " dropout_3 (Dropout)         (None, 7, 7, 128)         0         \n",
            "                                                                 \n",
            " conv2d_4 (Conv2D)           (None, 5, 5, 256)         295168    \n",
            "                                                                 \n",
            " batch_normalization_4 (Bat  (None, 5, 5, 256)         1024      \n",
            " chNormalization)                                                \n",
            "                                                                 \n",
            " activation_4 (Activation)   (None, 5, 5, 256)         0         \n",
            "                                                                 \n",
            " max_pooling2d_4 (MaxPoolin  (None, 2, 2, 256)         0         \n",
            " g2D)                                                            \n",
            "                                                                 \n",
            " dropout_4 (Dropout)         (None, 2, 2, 256)         0         \n",
            "                                                                 \n",
            " conv2d_5 (Conv2D)           (None, 2, 2, 256)         590080    \n",
            "                                                                 \n",
            " batch_normalization_5 (Bat  (None, 2, 2, 256)         1024      \n",
            " chNormalization)                                                \n",
            "                                                                 \n",
            " activation_5 (Activation)   (None, 2, 2, 256)         0         \n",
            "                                                                 \n",
            " max_pooling2d_5 (MaxPoolin  (None, 1, 1, 256)         0         \n",
            " g2D)                                                            \n",
            "                                                                 \n",
            " dropout_5 (Dropout)         (None, 1, 1, 256)         0         \n",
            "                                                                 \n",
            " flatten (Flatten)           (None, 256)               0         \n",
            "                                                                 \n",
            " dense (Dense)               (None, 512)               131584    \n",
            "                                                                 \n",
            " batch_normalization_6 (Bat  (None, 512)               2048      \n",
            " chNormalization)                                                \n",
            "                                                                 \n",
            " dense_1 (Dense)             (None, 256)               131328    \n",
            "                                                                 \n",
            " batch_normalization_7 (Bat  (None, 256)               1024      \n",
            " chNormalization)                                                \n",
            "                                                                 \n",
            " dense_2 (Dense)             (None, 1)                 257       \n",
            "                                                                 \n",
            "=================================================================\n",
            "Total params: 1415233 (5.40 MB)\n",
            "Trainable params: 1411905 (5.39 MB)\n",
            "Non-trainable params: 3328 (13.00 KB)\n",
            "_________________________________________________________________\n"
          ]
        }
      ]
    },
    {
      "cell_type": "code",
      "source": [
        "\n",
        "history = model.fit(train_ds, epochs=50, batch_size=32, validation_data=val_ds)\n"
      ],
      "metadata": {
        "colab": {
          "base_uri": "https://localhost:8080/"
        },
        "id": "LpBoTzg0isqV",
        "outputId": "f4f09956-19b0-4c2b-e9a5-1970b192c35d"
      },
      "execution_count": null,
      "outputs": [
        {
          "output_type": "stream",
          "name": "stdout",
          "text": [
            "Epoch 1/50\n",
            "20/20 [==============================] - 29s 330ms/step - loss: 0.5604 - accuracy: 0.7758 - val_loss: 0.8093 - val_accuracy: 0.4865\n",
            "Epoch 2/50\n",
            "20/20 [==============================] - 11s 338ms/step - loss: 0.2728 - accuracy: 0.9030 - val_loss: 1.3377 - val_accuracy: 0.5135\n",
            "Epoch 3/50\n",
            "20/20 [==============================] - 10s 384ms/step - loss: 0.2690 - accuracy: 0.9030 - val_loss: 1.3293 - val_accuracy: 0.5135\n",
            "Epoch 4/50\n",
            "20/20 [==============================] - 9s 286ms/step - loss: 0.1914 - accuracy: 0.9253 - val_loss: 0.6495 - val_accuracy: 0.6126\n",
            "Epoch 5/50\n",
            "20/20 [==============================] - 11s 372ms/step - loss: 0.1803 - accuracy: 0.9173 - val_loss: 1.0721 - val_accuracy: 0.5946\n",
            "Epoch 6/50\n",
            "20/20 [==============================] - 8s 285ms/step - loss: 0.1237 - accuracy: 0.9475 - val_loss: 0.8308 - val_accuracy: 0.6667\n",
            "Epoch 7/50\n",
            "20/20 [==============================] - 10s 366ms/step - loss: 0.0750 - accuracy: 0.9698 - val_loss: 0.1897 - val_accuracy: 0.9099\n",
            "Epoch 8/50\n",
            "20/20 [==============================] - 10s 357ms/step - loss: 0.0995 - accuracy: 0.9618 - val_loss: 2.5176 - val_accuracy: 0.5315\n",
            "Epoch 9/50\n",
            "20/20 [==============================] - 9s 288ms/step - loss: 0.0714 - accuracy: 0.9698 - val_loss: 1.8302 - val_accuracy: 0.6126\n",
            "Epoch 10/50\n",
            "20/20 [==============================] - 10s 397ms/step - loss: 0.1109 - accuracy: 0.9587 - val_loss: 1.2977 - val_accuracy: 0.6937\n",
            "Epoch 11/50\n",
            "20/20 [==============================] - 8s 286ms/step - loss: 0.0519 - accuracy: 0.9777 - val_loss: 0.0335 - val_accuracy: 0.9910\n",
            "Epoch 12/50\n",
            "20/20 [==============================] - 9s 289ms/step - loss: 0.0431 - accuracy: 0.9841 - val_loss: 0.2501 - val_accuracy: 0.9279\n",
            "Epoch 13/50\n",
            "20/20 [==============================] - 10s 400ms/step - loss: 0.0810 - accuracy: 0.9666 - val_loss: 0.0540 - val_accuracy: 0.9730\n",
            "Epoch 14/50\n",
            "20/20 [==============================] - 8s 287ms/step - loss: 0.0681 - accuracy: 0.9746 - val_loss: 0.6836 - val_accuracy: 0.7568\n",
            "Epoch 15/50\n",
            "20/20 [==============================] - 11s 301ms/step - loss: 0.0634 - accuracy: 0.9746 - val_loss: 1.7005 - val_accuracy: 0.6757\n",
            "Epoch 16/50\n",
            "20/20 [==============================] - 10s 387ms/step - loss: 0.0565 - accuracy: 0.9809 - val_loss: 0.0180 - val_accuracy: 0.9910\n",
            "Epoch 17/50\n",
            "20/20 [==============================] - 8s 287ms/step - loss: 0.0279 - accuracy: 0.9905 - val_loss: 0.1968 - val_accuracy: 0.9369\n",
            "Epoch 18/50\n",
            "20/20 [==============================] - 11s 385ms/step - loss: 0.0354 - accuracy: 0.9889 - val_loss: 0.0138 - val_accuracy: 1.0000\n",
            "Epoch 19/50\n",
            "20/20 [==============================] - 9s 326ms/step - loss: 0.0519 - accuracy: 0.9809 - val_loss: 0.1378 - val_accuracy: 0.9550\n",
            "Epoch 20/50\n",
            "20/20 [==============================] - 9s 284ms/step - loss: 0.0414 - accuracy: 0.9873 - val_loss: 0.0334 - val_accuracy: 0.9910\n",
            "Epoch 21/50\n",
            "20/20 [==============================] - 11s 402ms/step - loss: 0.0406 - accuracy: 0.9857 - val_loss: 0.0837 - val_accuracy: 0.9640\n",
            "Epoch 22/50\n",
            "20/20 [==============================] - 10s 357ms/step - loss: 0.0309 - accuracy: 0.9873 - val_loss: 0.7772 - val_accuracy: 0.7928\n",
            "Epoch 23/50\n",
            "20/20 [==============================] - 9s 286ms/step - loss: 0.0332 - accuracy: 0.9873 - val_loss: 1.0546 - val_accuracy: 0.7207\n",
            "Epoch 24/50\n",
            "20/20 [==============================] - 11s 401ms/step - loss: 0.0335 - accuracy: 0.9889 - val_loss: 0.1596 - val_accuracy: 0.9459\n",
            "Epoch 25/50\n",
            "20/20 [==============================] - 10s 358ms/step - loss: 0.0170 - accuracy: 0.9936 - val_loss: 0.0122 - val_accuracy: 1.0000\n",
            "Epoch 26/50\n",
            "20/20 [==============================] - 9s 295ms/step - loss: 0.0253 - accuracy: 0.9921 - val_loss: 0.4363 - val_accuracy: 0.8559\n",
            "Epoch 27/50\n",
            "20/20 [==============================] - 11s 364ms/step - loss: 0.0421 - accuracy: 0.9873 - val_loss: 3.3477 - val_accuracy: 0.5676\n",
            "Epoch 28/50\n",
            "20/20 [==============================] - 9s 337ms/step - loss: 0.0574 - accuracy: 0.9793 - val_loss: 0.0756 - val_accuracy: 0.9640\n",
            "Epoch 29/50\n",
            "20/20 [==============================] - 9s 287ms/step - loss: 0.0246 - accuracy: 0.9905 - val_loss: 0.0146 - val_accuracy: 0.9910\n",
            "Epoch 30/50\n",
            "20/20 [==============================] - 11s 403ms/step - loss: 0.0136 - accuracy: 0.9968 - val_loss: 1.4266 - val_accuracy: 0.6757\n",
            "Epoch 31/50\n",
            "20/20 [==============================] - 10s 360ms/step - loss: 0.0109 - accuracy: 0.9952 - val_loss: 1.3221 - val_accuracy: 0.7387\n",
            "Epoch 32/50\n",
            "20/20 [==============================] - 9s 286ms/step - loss: 0.0173 - accuracy: 0.9921 - val_loss: 0.0425 - val_accuracy: 0.9730\n",
            "Epoch 33/50\n",
            "20/20 [==============================] - 11s 405ms/step - loss: 0.0206 - accuracy: 0.9921 - val_loss: 0.1336 - val_accuracy: 0.9730\n",
            "Epoch 34/50\n",
            "20/20 [==============================] - 10s 360ms/step - loss: 0.0071 - accuracy: 0.9984 - val_loss: 0.1371 - val_accuracy: 0.9459\n",
            "Epoch 35/50\n",
            "20/20 [==============================] - 9s 282ms/step - loss: 0.0225 - accuracy: 0.9921 - val_loss: 0.1539 - val_accuracy: 0.9640\n",
            "Epoch 36/50\n",
            "20/20 [==============================] - 10s 398ms/step - loss: 0.0290 - accuracy: 0.9905 - val_loss: 3.7524 - val_accuracy: 0.5495\n",
            "Epoch 37/50\n",
            "20/20 [==============================] - 9s 284ms/step - loss: 0.0147 - accuracy: 0.9952 - val_loss: 1.6236 - val_accuracy: 0.6757\n",
            "Epoch 38/50\n",
            "20/20 [==============================] - 11s 405ms/step - loss: 0.0541 - accuracy: 0.9889 - val_loss: 0.0525 - val_accuracy: 0.9730\n",
            "Epoch 39/50\n",
            "20/20 [==============================] - 8s 289ms/step - loss: 0.0382 - accuracy: 0.9841 - val_loss: 0.1929 - val_accuracy: 0.9369\n",
            "Epoch 40/50\n",
            "20/20 [==============================] - 9s 282ms/step - loss: 0.0396 - accuracy: 0.9873 - val_loss: 0.1596 - val_accuracy: 0.9640\n",
            "Epoch 41/50\n",
            "20/20 [==============================] - 10s 395ms/step - loss: 0.0095 - accuracy: 0.9968 - val_loss: 0.1377 - val_accuracy: 0.9640\n",
            "Epoch 42/50\n",
            "20/20 [==============================] - 8s 285ms/step - loss: 0.0345 - accuracy: 0.9921 - val_loss: 0.0225 - val_accuracy: 0.9910\n",
            "Epoch 43/50\n",
            "20/20 [==============================] - 9s 279ms/step - loss: 0.0328 - accuracy: 0.9873 - val_loss: 0.9476 - val_accuracy: 0.7297\n",
            "Epoch 44/50\n",
            "20/20 [==============================] - 11s 406ms/step - loss: 0.0215 - accuracy: 0.9921 - val_loss: 1.0222 - val_accuracy: 0.7748\n",
            "Epoch 45/50\n",
            "20/20 [==============================] - 8s 286ms/step - loss: 0.0510 - accuracy: 0.9809 - val_loss: 3.8483 - val_accuracy: 0.5315\n",
            "Epoch 46/50\n",
            "20/20 [==============================] - 10s 295ms/step - loss: 0.0361 - accuracy: 0.9809 - val_loss: 0.5623 - val_accuracy: 0.8378\n",
            "Epoch 47/50\n",
            "20/20 [==============================] - 10s 391ms/step - loss: 0.0311 - accuracy: 0.9873 - val_loss: 0.6431 - val_accuracy: 0.8559\n",
            "Epoch 48/50\n",
            "20/20 [==============================] - 8s 277ms/step - loss: 0.0426 - accuracy: 0.9825 - val_loss: 0.0127 - val_accuracy: 0.9910\n",
            "Epoch 49/50\n",
            "20/20 [==============================] - 10s 362ms/step - loss: 0.0463 - accuracy: 0.9841 - val_loss: 1.6911 - val_accuracy: 0.6306\n",
            "Epoch 50/50\n",
            "20/20 [==============================] - 9s 321ms/step - loss: 0.0155 - accuracy: 0.9952 - val_loss: 0.8095 - val_accuracy: 0.7928\n"
          ]
        }
      ]
    },
    {
      "cell_type": "code",
      "source": [
        "model.save('/content/drive/MyDrive/NNDL/HW2/Q3/NNDL_HW2_6layres.h5')\n"
      ],
      "metadata": {
        "colab": {
          "base_uri": "https://localhost:8080/"
        },
        "id": "pueAmvCYJ8ko",
        "outputId": "3949a241-a716-4e46-f695-5c4ff5cbfb29"
      },
      "execution_count": null,
      "outputs": [
        {
          "output_type": "stream",
          "name": "stderr",
          "text": [
            "/usr/local/lib/python3.10/dist-packages/keras/src/engine/training.py:3079: UserWarning: You are saving your model as an HDF5 file via `model.save()`. This file format is considered legacy. We recommend using instead the native Keras format, e.g. `model.save('my_model.keras')`.\n",
            "  saving_api.save_model(\n"
          ]
        }
      ]
    },
    {
      "cell_type": "code",
      "source": [
        "import matplotlib.pyplot as plt\n",
        "\n",
        "def plot_loss_and_accuracy(history):\n",
        "    # Plot training & validation accuracy values\n",
        "    plt.figure(figsize=(12, 4))\n",
        "\n",
        "    # Plotting accuracy\n",
        "    plt.subplot(1, 2, 1)\n",
        "    plt.plot(history.history['accuracy'])\n",
        "    plt.plot(history.history['val_accuracy'])\n",
        "    plt.title('Model accuracy')\n",
        "    plt.ylabel('Accuracy')\n",
        "    plt.xlabel('Epoch')\n",
        "    plt.legend(['Train', 'val'], loc='upper left')\n",
        "\n",
        "    # Plotting loss\n",
        "    plt.subplot(1, 2, 2)\n",
        "    plt.plot(history.history['loss'])\n",
        "    plt.plot(history.history['val_loss'])\n",
        "    plt.title('Model loss')\n",
        "    plt.ylabel('Loss')\n",
        "    plt.xlabel('Epoch')\n",
        "    plt.legend(['Train', 'val'], loc='upper left')\n",
        "\n",
        "    plt.show()\n",
        "\n",
        "plot_loss_and_accuracy(history)\n",
        "\n"
      ],
      "metadata": {
        "colab": {
          "base_uri": "https://localhost:8080/",
          "height": 410
        },
        "id": "7ZldGOESEcFE",
        "outputId": "bd2f5e79-5d1f-42b5-e1dd-d61155ca1074"
      },
      "execution_count": null,
      "outputs": [
        {
          "output_type": "display_data",
          "data": {
            "text/plain": [
              "<Figure size 1200x400 with 2 Axes>"
            ],
            "image/png": "[encoded data removed]"
          },
          "metadata": {}
        }
      ]
    },
    {
      "cell_type": "code",
      "source": [
        "import numpy as np\n",
        "from tensorflow.keras.models import load_model\n",
        "from sklearn.metrics import classification_report, confusion_matrix\n",
        "import matplotlib.pyplot as plt\n",
        "import seaborn as sns\n",
        "\n",
        "test_ds = tensorflow.keras.utils.image_dataset_from_directory(\n",
        "    directory='/content/Dataset/xray_dataset_covid19/test',\n",
        "    image_size=(150, 150),\n",
        "    shuffle=False  # No need to shuffle the test dataset\n",
        ")\n",
        "\n",
        "# Make predictions\n",
        "y_pred=model.predict(test_ds)\n",
        "y_pred = [np.rint(i)[0] for i in y_pred]\n",
        "y_true = []\n",
        "for images, labels in test_ds:\n",
        "    y_true.extend(labels.numpy())\n",
        "\n",
        "y_pred=model.predict(test_ds)\n",
        "y_pred = [np.rint(i)[0] for i in y_pred]\n",
        "y_true = []\n",
        "# Iterate through the dataset to collect unique labels\n",
        "for images, labels in test_ds:\n",
        "    y_true.extend(labels.numpy())\n",
        "# Calculate metrics\n",
        "print(classification_report(y_true, y_pred, target_names=test_ds.class_names))\n",
        "\n",
        "# Plot confusion matrix\n",
        "cm = confusion_matrix(y_true, y_pred)\n",
        "\n",
        "# Calculate and print sensitivity and specificity for each class\n",
        "for i, class_name in enumerate(test_ds.class_names):\n",
        "    sensitivity = cm[i, i] / cm[i, :].sum()\n",
        "    true_negatives = np.delete(np.delete(cm, i, axis=0), i, axis=1).sum()\n",
        "    false_positives = cm[:, i].sum() - cm[i, i]\n",
        "    specificity = true_negatives / (true_negatives + false_positives)\n",
        "    print(f\"{class_name} - Sensitivity (Recall): {sensitivity:.4f}, Specificity: {specificity:.4f}\")\n",
        "\n",
        "plt.figure(figsize=(10, 8))\n",
        "sns.heatmap(cm, annot=True, fmt=\"d\", cmap='Blues', xticklabels=test_ds.class_names, yticklabels=test_ds.class_names)\n",
        "plt.title('Confusion Matrix')\n",
        "plt.ylabel('True Label')\n",
        "plt.xlabel('Predicted Label')\n",
        "plt.show()\n",
        "\n"
      ],
      "metadata": {
        "colab": {
          "base_uri": "https://localhost:8080/",
          "height": 959
        },
        "id": "lnkiGL-uFsrv",
        "outputId": "e18acb22-938f-4a69-9c92-f0475efa0b40"
      },
      "execution_count": null,
      "outputs": [
        {
          "output_type": "stream",
          "name": "stdout",
          "text": [
            "Found 40 files belonging to 2 classes.\n",
            "2/2 [==============================] - 1s 94ms/step\n",
            "2/2 [==============================] - 1s 193ms/step\n",
            "              precision    recall  f1-score   support\n",
            "\n",
            "       COVID       1.00      0.65      0.79        20\n",
            "      NORMAL       0.74      1.00      0.85        20\n",
            "\n",
            "    accuracy                           0.82        40\n",
            "   macro avg       0.87      0.82      0.82        40\n",
            "weighted avg       0.87      0.82      0.82        40\n",
            "\n",
            "COVID - Sensitivity (Recall): 0.6500, Specificity: 1.0000\n",
            "NORMAL - Sensitivity (Recall): 1.0000, Specificity: 0.6500\n"
          ]
        },
        {
          "output_type": "display_data",
          "data": {
            "text/plain": [
              "<Figure size 1000x800 with 2 Axes>"
            ],
            "image/png": "[encoded data removed]"
          },
          "metadata": {}
        }
      ]
    },
    {
      "cell_type": "code",
      "source": [
        "model.evaluate(test_ds)"
      ],
      "metadata": {
        "colab": {
          "base_uri": "https://localhost:8080/"
        },
        "id": "OQ1gw6aCNqdz",
        "outputId": "2b7d9e3c-2f22-46bc-ce12-e7c2643cc05e"
      },
      "execution_count": null,
      "outputs": [
        {
          "output_type": "stream",
          "name": "stdout",
          "text": [
            "2/2 [==============================] - 0s 46ms/step - loss: 0.4534 - accuracy: 0.8250\n"
          ]
        },
        {
          "output_type": "execute_result",
          "data": {
            "text/plain": [
              "[0.4533718228340149, 0.824999988079071]"
            ]
          },
          "metadata": {},
          "execution_count": 42
        }
      ]
    },
    {
      "cell_type": "markdown",
      "source": [
        "part 4"
      ],
      "metadata": {
        "id": "OJiHxWXWIRL_"
      }
    },
    {
      "cell_type": "code",
      "source": [
        "from tensorflow.keras.models import Sequential\n",
        "from tensorflow.keras.layers import Conv2D, MaxPooling2D, BatchNormalization, Flatten, Dense, Dropout\n",
        "from tensorflow.keras.activations import relu\n",
        "from tensorflow.keras.layers import Activation  # Add this import for Activation\n",
        "from tensorflow.keras.optimizers import Adam\n",
        "\n",
        "# Create a Sequential model\n",
        "model_1 = Sequential()\n",
        "\n",
        "# Convolutional Layer 1\n",
        "model_1.add(Conv2D(64, (3, 3), activation=None, input_shape=(150, 150, 3)))\n",
        "model_1.add(BatchNormalization(axis=-1))\n",
        "model_1.add(Activation('relu'))\n",
        "model_1.add(MaxPooling2D(pool_size=(2, 2)))\n",
        "model_1.add(Dropout(0.2))\n",
        "\n",
        "\n",
        "\n",
        "# Flatten the feature maps\n",
        "model_1.add(Flatten())\n",
        "\n",
        "# Fully Connected Layer 1\n",
        "model_1.add(Dense(512, activation='relu'))\n",
        "model_1.add(BatchNormalization(axis=-1))\n",
        "# Fully Connected Layer 2\n",
        "model_1.add(Dense(256, activation='relu'))\n",
        "model_1.add(BatchNormalization(axis=-1))\n",
        "# Fully Connected Layer 3\n",
        "model_1.add(Dense(1, activation='sigmoid'))\n",
        "\n",
        "\n",
        "optimizer = Adam(learning_rate=0.0006)\n",
        "\n",
        "# Compile the model\n",
        "model_1.compile(loss='binary_crossentropy', optimizer=optimizer, metrics=['accuracy'])\n",
        "\n",
        "# Print the model summary\n",
        "model_1.summary()\n"
      ],
      "metadata": {
        "colab": {
          "base_uri": "https://localhost:8080/"
        },
        "outputId": "1a86dfa1-a5be-4d1c-9136-e0afc6f18c3a",
        "id": "7edGZCFhIJzv"
      },
      "execution_count": null,
      "outputs": [
        {
          "output_type": "stream",
          "name": "stdout",
          "text": [
            "Model: \"sequential_1\"\n",
            "_________________________________________________________________\n",
            " Layer (type)                Output Shape              Param #   \n",
            "=================================================================\n",
            " conv2d_6 (Conv2D)           (None, 148, 148, 64)      1792      \n",
            "                                                                 \n",
            " batch_normalization_8 (Bat  (None, 148, 148, 64)      256       \n",
            " chNormalization)                                                \n",
            "                                                                 \n",
            " activation_6 (Activation)   (None, 148, 148, 64)      0         \n",
            "                                                                 \n",
            " max_pooling2d_6 (MaxPoolin  (None, 74, 74, 64)        0         \n",
            " g2D)                                                            \n",
            "                                                                 \n",
            " dropout_6 (Dropout)         (None, 74, 74, 64)        0         \n",
            "                                                                 \n",
            " flatten_1 (Flatten)         (None, 350464)            0         \n",
            "                                                                 \n",
            " dense_3 (Dense)             (None, 512)               179438080 \n",
            "                                                                 \n",
            " batch_normalization_9 (Bat  (None, 512)               2048      \n",
            " chNormalization)                                                \n",
            "                                                                 \n",
            " dense_4 (Dense)             (None, 256)               131328    \n",
            "                                                                 \n",
            " batch_normalization_10 (Ba  (None, 256)               1024      \n",
            " tchNormalization)                                               \n",
            "                                                                 \n",
            " dense_5 (Dense)             (None, 1)                 257       \n",
            "                                                                 \n",
            "=================================================================\n",
            "Total params: 179574785 (685.02 MB)\n",
            "Trainable params: 179573121 (685.02 MB)\n",
            "Non-trainable params: 1664 (6.50 KB)\n",
            "_________________________________________________________________\n"
          ]
        }
      ]
    },
    {
      "cell_type": "code",
      "source": [
        "history_1 = model_1.fit(train_ds, epochs=12, batch_size=32, validation_data=val_ds)"
      ],
      "metadata": {
        "colab": {
          "base_uri": "https://localhost:8080/"
        },
        "id": "7Ut038D7InLj",
        "outputId": "493b7588-8c13-4fab-cf0c-a01cb49f54f3"
      },
      "execution_count": null,
      "outputs": [
        {
          "output_type": "stream",
          "name": "stdout",
          "text": [
            "Epoch 1/12\n",
            "20/20 [==============================] - 13s 403ms/step - loss: 0.3561 - accuracy: 0.8680 - val_loss: 3.8913 - val_accuracy: 0.6937\n",
            "Epoch 2/12\n",
            "20/20 [==============================] - 11s 308ms/step - loss: 0.0913 - accuracy: 0.9762 - val_loss: 1.5153 - val_accuracy: 0.7477\n",
            "Epoch 3/12\n",
            "20/20 [==============================] - 9s 306ms/step - loss: 0.0475 - accuracy: 0.9905 - val_loss: 1.7460 - val_accuracy: 0.6847\n",
            "Epoch 4/12\n",
            "20/20 [==============================] - 9s 295ms/step - loss: 0.0196 - accuracy: 0.9984 - val_loss: 0.8599 - val_accuracy: 0.7838\n",
            "Epoch 5/12\n",
            "20/20 [==============================] - 11s 404ms/step - loss: 0.0181 - accuracy: 0.9984 - val_loss: 0.9950 - val_accuracy: 0.7568\n",
            "Epoch 6/12\n",
            "20/20 [==============================] - 10s 365ms/step - loss: 0.0085 - accuracy: 1.0000 - val_loss: 0.6841 - val_accuracy: 0.8018\n",
            "Epoch 7/12\n",
            "20/20 [==============================] - 9s 287ms/step - loss: 0.0031 - accuracy: 1.0000 - val_loss: 0.1456 - val_accuracy: 0.9459\n",
            "Epoch 8/12\n",
            "20/20 [==============================] - 10s 394ms/step - loss: 0.0046 - accuracy: 1.0000 - val_loss: 0.3743 - val_accuracy: 0.8829\n",
            "Epoch 9/12\n",
            "20/20 [==============================] - 8s 290ms/step - loss: 0.0028 - accuracy: 1.0000 - val_loss: 0.1480 - val_accuracy: 0.9459\n",
            "Epoch 10/12\n",
            "20/20 [==============================] - 11s 313ms/step - loss: 0.0024 - accuracy: 1.0000 - val_loss: 0.1747 - val_accuracy: 0.9550\n",
            "Epoch 11/12\n",
            "20/20 [==============================] - 10s 400ms/step - loss: 0.0028 - accuracy: 1.0000 - val_loss: 0.1571 - val_accuracy: 0.9550\n",
            "Epoch 12/12\n",
            "20/20 [==============================] - 8s 291ms/step - loss: 0.0022 - accuracy: 1.0000 - val_loss: 0.2329 - val_accuracy: 0.9369\n"
          ]
        }
      ]
    },
    {
      "cell_type": "code",
      "source": [
        "model_1.save('/content/drive/MyDrive/NNDL/HW2/Q3/NNDL_HW2_1layres.h5')"
      ],
      "metadata": {
        "id": "JRcZeSRbOhRZ"
      },
      "execution_count": null,
      "outputs": []
    },
    {
      "cell_type": "code",
      "source": [
        "model_1.evaluate(test_ds)"
      ],
      "metadata": {
        "id": "a3vKNleQN65A"
      },
      "execution_count": null,
      "outputs": []
    },
    {
      "cell_type": "code",
      "source": [
        "from tensorflow.keras.models import Sequential\n",
        "from tensorflow.keras.layers import Conv2D, MaxPooling2D, BatchNormalization, Flatten, Dense, Dropout\n",
        "from tensorflow.keras.activations import relu\n",
        "from tensorflow.keras.layers import Activation  # Add this import for Activation\n",
        "from tensorflow.keras.optimizers import Adam\n",
        "\n",
        "# Create a Sequential model\n",
        "model_2 = Sequential()\n",
        "\n",
        "# Convolutional Layer 1\n",
        "model_2.add(Conv2D(64, (3, 3), activation=None, input_shape=(150, 150, 3)))\n",
        "model_2.add(BatchNormalization(axis=-1))\n",
        "model_2.add(Activation('relu'))\n",
        "model_2.add(MaxPooling2D(pool_size=(2, 2)))\n",
        "model_2.add(Dropout(0.2))\n",
        "\n",
        "# Convolutional Layer 2\n",
        "model_2.add(Conv2D(64, (3, 3), activation=None))\n",
        "model_2.add(BatchNormalization(axis=-1))\n",
        "model_2.add(Activation('relu'))\n",
        "model_2.add(MaxPooling2D(pool_size=(2, 2)))\n",
        "model_2.add(Dropout(0.2))\n",
        "\n",
        "\n",
        "# Flatten the feature maps\n",
        "model_2.add(Flatten())\n",
        "\n",
        "# Fully Connected Layer 1\n",
        "model_2.add(Dense(512, activation='relu'))\n",
        "model_2.add(BatchNormalization(axis=-1))\n",
        "# Fully Connected Layer 2\n",
        "model_2.add(Dense(256, activation='relu'))\n",
        "model_2.add(BatchNormalization(axis=-1))\n",
        "# Fully Connected Layer 3\n",
        "model_2.add(Dense(1, activation='sigmoid'))\n",
        "\n",
        "\n",
        "optimizer = Adam(learning_rate=0.0006)\n",
        "\n",
        "# Compile the model\n",
        "model_2.compile(loss='binary_crossentropy', optimizer=optimizer, metrics=['accuracy'])\n",
        "\n",
        "# Print the model summary\n",
        "model_2.summary()"
      ],
      "metadata": {
        "id": "qK9Gw1Z2O1q4"
      },
      "execution_count": null,
      "outputs": []
    },
    {
      "cell_type": "code",
      "source": [
        "history_2 = model_2.fit(train_ds, epochs=12, batch_size=32, validation_data=val_ds)"
      ],
      "metadata": {
        "id": "bcK9HErqSbuR",
        "colab": {
          "base_uri": "https://localhost:8080/"
        },
        "outputId": "2ca0b4e3-d4b4-4395-f26c-7717a3085fdc"
      },
      "execution_count": null,
      "outputs": [
        {
          "output_type": "stream",
          "name": "stdout",
          "text": [
            "Epoch 1/12\n",
            "20/20 [==============================] - 8s 289ms/step - loss: 0.0016 - accuracy: 1.0000 - val_loss: 0.0415 - val_accuracy: 0.9820\n",
            "Epoch 2/12\n",
            "20/20 [==============================] - 10s 286ms/step - loss: 0.0090 - accuracy: 0.9968 - val_loss: 0.6316 - val_accuracy: 0.8198\n",
            "Epoch 3/12\n",
            "20/20 [==============================] - 11s 432ms/step - loss: 0.0509 - accuracy: 0.9825 - val_loss: 1.5346 - val_accuracy: 0.6847\n",
            "Epoch 4/12\n",
            "20/20 [==============================] - 8s 286ms/step - loss: 0.0383 - accuracy: 0.9889 - val_loss: 0.5754 - val_accuracy: 0.8919\n",
            "Epoch 5/12\n",
            "20/20 [==============================] - 11s 402ms/step - loss: 0.0063 - accuracy: 1.0000 - val_loss: 0.1269 - val_accuracy: 0.9640\n",
            "Epoch 6/12\n",
            "20/20 [==============================] - 9s 306ms/step - loss: 0.0225 - accuracy: 0.9952 - val_loss: 0.3320 - val_accuracy: 0.9009\n",
            "Epoch 7/12\n",
            "20/20 [==============================] - 25s 862ms/step - loss: 0.0156 - accuracy: 0.9968 - val_loss: 2.5350 - val_accuracy: 0.6036\n",
            "Epoch 8/12\n",
            "20/20 [==============================] - 18s 640ms/step - loss: 0.0095 - accuracy: 0.9984 - val_loss: 0.4446 - val_accuracy: 0.9099\n",
            "Epoch 9/12\n",
            "20/20 [==============================] - 12s 492ms/step - loss: 0.0063 - accuracy: 1.0000 - val_loss: 0.3867 - val_accuracy: 0.8919\n",
            "Epoch 10/12\n",
            "20/20 [==============================] - 14s 592ms/step - loss: 0.0100 - accuracy: 0.9984 - val_loss: 0.4467 - val_accuracy: 0.8829\n",
            "Epoch 11/12\n",
            "20/20 [==============================] - 9s 300ms/step - loss: 0.0173 - accuracy: 0.9952 - val_loss: 4.1336 - val_accuracy: 0.5135\n",
            "Epoch 12/12\n",
            "20/20 [==============================] - 10s 287ms/step - loss: 0.0159 - accuracy: 0.9952 - val_loss: 0.7241 - val_accuracy: 0.7658\n"
          ]
        }
      ]
    },
    {
      "cell_type": "code",
      "source": [
        "model_2.save('/content/drive/MyDrive/NNDL/HW2/Q3/NNDL_HW2_2layres.h5')"
      ],
      "metadata": {
        "id": "qfykbbY5SbuS"
      },
      "execution_count": null,
      "outputs": []
    },
    {
      "cell_type": "code",
      "source": [
        "model_2.evaluate(test_ds)"
      ],
      "metadata": {
        "colab": {
          "base_uri": "https://localhost:8080/"
        },
        "outputId": "dc16720c-3e99-43da-dff2-8df976e4345f",
        "id": "mi1bp-DvSbuS"
      },
      "execution_count": null,
      "outputs": [
        {
          "output_type": "stream",
          "name": "stdout",
          "text": [
            "2/2 [==============================] - 0s 59ms/step - loss: 0.0436 - accuracy: 1.0000\n"
          ]
        },
        {
          "output_type": "execute_result",
          "data": {
            "text/plain": [
              "[0.04359791427850723, 1.0]"
            ]
          },
          "metadata": {},
          "execution_count": 36
        }
      ]
    },
    {
      "cell_type": "code",
      "source": [
        "from tensorflow.keras.models import Sequential\n",
        "from tensorflow.keras.layers import Conv2D, MaxPooling2D, BatchNormalization, Flatten, Dense, Dropout\n",
        "from tensorflow.keras.activations import relu\n",
        "from tensorflow.keras.layers import Activation  # Add this import for Activation\n",
        "from tensorflow.keras.optimizers import Adam\n",
        "\n",
        "# Create a Sequential model\n",
        "model_3 = Sequential()\n",
        "\n",
        "# Convolutional Layer 1\n",
        "model_3.add(Conv2D(64, (3, 3), activation=None, input_shape=(150, 150, 3)))\n",
        "model_3.add(BatchNormalization(axis=-1))\n",
        "model_3.add(Activation('relu'))\n",
        "model_3.add(MaxPooling2D(pool_size=(2, 2)))\n",
        "model_3.add(Dropout(0.2))\n",
        "\n",
        "# Convolutional Layer 2\n",
        "model_3.add(Conv2D(64, (3, 3), activation=None))\n",
        "model_3.add(BatchNormalization(axis=-1))\n",
        "model_3.add(Activation('relu'))\n",
        "model_3.add(MaxPooling2D(pool_size=(2, 2)))\n",
        "model_3.add(Dropout(0.2))\n",
        "\n",
        "# Convolutional Layer 3\n",
        "model_3.add(Conv2D(128, (3, 3), activation=None))\n",
        "model_3.add(BatchNormalization(axis=-1))\n",
        "model_3.add(Activation('relu'))\n",
        "model_3.add(MaxPooling2D(pool_size=(2, 2)))\n",
        "model_3.add(Dropout(0.2))\n",
        "\n",
        "\n",
        "# Flatten the feature maps\n",
        "model_3.add(Flatten())\n",
        "\n",
        "# Fully Connected Layer 1\n",
        "model_3.add(Dense(512, activation='relu'))\n",
        "model_3.add(BatchNormalization(axis=-1))\n",
        "# Fully Connected Layer 2\n",
        "model_3.add(Dense(256, activation='relu'))\n",
        "model_3.add(BatchNormalization(axis=-1))\n",
        "# Fully Connected Layer 3\n",
        "model_3.add(Dense(1, activation='sigmoid'))\n",
        "\n",
        "\n",
        "optimizer = Adam(learning_rate=0.0006)\n",
        "\n",
        "# Compile the model\n",
        "model_3.compile(loss='binary_crossentropy', optimizer=optimizer, metrics=['accuracy'])\n",
        "\n",
        "# Print the model summary\n",
        "model_3.summary()"
      ],
      "metadata": {
        "id": "PgRX02X7O201"
      },
      "execution_count": null,
      "outputs": []
    },
    {
      "cell_type": "code",
      "source": [
        "history_3 = model_3.fit(train_ds, epochs=12, batch_size=32, validation_data=val_ds)"
      ],
      "metadata": {
        "colab": {
          "base_uri": "https://localhost:8080/"
        },
        "outputId": "1f8bdfbf-4b7a-484a-ceee-f0ed5b1daf51",
        "id": "cMyJM9vlSio9"
      },
      "execution_count": null,
      "outputs": [
        {
          "output_type": "stream",
          "name": "stdout",
          "text": [
            "Epoch 1/12\n",
            "20/20 [==============================] - 14s 326ms/step - loss: 0.2452 - accuracy: 0.9141 - val_loss: 2.5082 - val_accuracy: 0.5856\n",
            "Epoch 2/12\n",
            "20/20 [==============================] - 11s 319ms/step - loss: 0.0755 - accuracy: 0.9730 - val_loss: 5.7207 - val_accuracy: 0.5135\n",
            "Epoch 3/12\n",
            "20/20 [==============================] - 10s 393ms/step - loss: 0.0487 - accuracy: 0.9873 - val_loss: 5.8375 - val_accuracy: 0.5135\n",
            "Epoch 4/12\n",
            "20/20 [==============================] - 8s 283ms/step - loss: 0.0224 - accuracy: 0.9921 - val_loss: 1.1161 - val_accuracy: 0.6396\n",
            "Epoch 5/12\n",
            "20/20 [==============================] - 10s 361ms/step - loss: 0.0396 - accuracy: 0.9841 - val_loss: 0.1432 - val_accuracy: 0.9189\n",
            "Epoch 6/12\n",
            "20/20 [==============================] - 9s 355ms/step - loss: 0.0303 - accuracy: 0.9889 - val_loss: 0.1416 - val_accuracy: 0.9279\n",
            "Epoch 7/12\n",
            "20/20 [==============================] - 8s 279ms/step - loss: 0.0184 - accuracy: 0.9952 - val_loss: 0.1470 - val_accuracy: 0.9550\n",
            "Epoch 8/12\n",
            "20/20 [==============================] - 10s 391ms/step - loss: 0.0087 - accuracy: 0.9984 - val_loss: 0.6990 - val_accuracy: 0.7838\n",
            "Epoch 9/12\n",
            "20/20 [==============================] - 10s 356ms/step - loss: 0.0081 - accuracy: 0.9968 - val_loss: 0.7267 - val_accuracy: 0.7748\n",
            "Epoch 10/12\n",
            "20/20 [==============================] - 9s 282ms/step - loss: 0.0096 - accuracy: 0.9968 - val_loss: 0.0903 - val_accuracy: 0.9640\n",
            "Epoch 11/12\n",
            "20/20 [==============================] - 10s 401ms/step - loss: 0.0130 - accuracy: 0.9968 - val_loss: 0.0751 - val_accuracy: 0.9730\n",
            "Epoch 12/12\n",
            "20/20 [==============================] - 9s 284ms/step - loss: 0.0073 - accuracy: 0.9984 - val_loss: 0.0673 - val_accuracy: 0.9820\n"
          ]
        }
      ]
    },
    {
      "cell_type": "code",
      "source": [
        "model_3.save('/content/drive/MyDrive/NNDL/HW2/Q3/NNDL_HW2_3layres.h5')"
      ],
      "metadata": {
        "id": "KuCgo0UlSio-"
      },
      "execution_count": null,
      "outputs": []
    },
    {
      "cell_type": "code",
      "source": [
        "model_3.evaluate(test_ds)"
      ],
      "metadata": {
        "colab": {
          "base_uri": "https://localhost:8080/"
        },
        "outputId": "79a29998-3eef-4abb-aa0f-628299f4f4c7",
        "id": "92m8YxIeSio-"
      },
      "execution_count": null,
      "outputs": [
        {
          "output_type": "stream",
          "name": "stdout",
          "text": [
            "2/2 [==============================] - 0s 50ms/step - loss: 0.0882 - accuracy: 0.9500\n"
          ]
        },
        {
          "output_type": "execute_result",
          "data": {
            "text/plain": [
              "[0.08818957954645157, 0.949999988079071]"
            ]
          },
          "metadata": {},
          "execution_count": 35
        }
      ]
    },
    {
      "cell_type": "code",
      "source": [
        "from tensorflow.keras.models import Sequential\n",
        "from tensorflow.keras.layers import Conv2D, MaxPooling2D, BatchNormalization, Flatten, Dense, Dropout\n",
        "from tensorflow.keras.activations import relu\n",
        "from tensorflow.keras.layers import Activation  # Add this import for Activation\n",
        "from tensorflow.keras.optimizers import Adam\n",
        "\n",
        "# Create a Sequential model\n",
        "model_4 = Sequential()\n",
        "\n",
        "# Convolutional Layer 1\n",
        "model_4.add(Conv2D(64, (3, 3), activation=None, input_shape=(150, 150, 3)))\n",
        "model_4.add(BatchNormalization(axis=-1))\n",
        "model_4.add(Activation('relu'))\n",
        "model_4.add(MaxPooling2D(pool_size=(2, 2)))\n",
        "model_4.add(Dropout(0.2))\n",
        "\n",
        "# Convolutional Layer 2\n",
        "model_4.add(Conv2D(64, (3, 3), activation=None))\n",
        "model_4.add(BatchNormalization(axis=-1))\n",
        "model_4.add(Activation('relu'))\n",
        "model_4.add(MaxPooling2D(pool_size=(2, 2)))\n",
        "model_4.add(Dropout(0.2))\n",
        "\n",
        "# Convolutional Layer 3\n",
        "model_4.add(Conv2D(128, (3, 3), activation=None))\n",
        "model_4.add(BatchNormalization(axis=-1))\n",
        "model_4.add(Activation('relu'))\n",
        "model_4.add(MaxPooling2D(pool_size=(2, 2)))\n",
        "model_4.add(Dropout(0.2))\n",
        "\n",
        "# Convolutional Layer 4\n",
        "model_4.add(Conv2D(128, (3, 3), activation=None))\n",
        "model_4.add(BatchNormalization(axis=-1))\n",
        "model_4.add(Activation('relu'))\n",
        "model_4.add(MaxPooling2D(pool_size=(2, 2)))\n",
        "model_4.add(Dropout(0.2))\n",
        "\n",
        "\n",
        "\n",
        "# Flatten the feature maps\n",
        "model_4.add(Flatten())\n",
        "\n",
        "# Fully Connected Layer 1\n",
        "model_4.add(Dense(512, activation='relu'))\n",
        "model_4.add(BatchNormalization(axis=-1))\n",
        "# Fully Connected Layer 2\n",
        "model_4.add(Dense(256, activation='relu'))\n",
        "model_4.add(BatchNormalization(axis=-1))\n",
        "# Fully Connected Layer 3\n",
        "model_4.add(Dense(1, activation='sigmoid'))\n",
        "\n",
        "\n",
        "optimizer = Adam(learning_rate=0.0006)\n",
        "\n",
        "# Compile the model\n",
        "model_4.compile(loss='binary_crossentropy', optimizer=optimizer, metrics=['accuracy'])\n",
        "\n",
        "# Print the model summary\n",
        "model_4.summary()"
      ],
      "metadata": {
        "id": "yn6Ps7l3O3yT",
        "colab": {
          "base_uri": "https://localhost:8080/"
        },
        "outputId": "d25b3e22-b69c-4642-d1a3-1014cba0d9e3"
      },
      "execution_count": null,
      "outputs": [
        {
          "output_type": "stream",
          "name": "stdout",
          "text": [
            "Model: \"sequential_7\"\n",
            "_________________________________________________________________\n",
            " Layer (type)                Output Shape              Param #   \n",
            "=================================================================\n",
            " conv2d_26 (Conv2D)          (None, 148, 148, 64)      1792      \n",
            "                                                                 \n",
            " batch_normalization_40 (Ba  (None, 148, 148, 64)      256       \n",
            " tchNormalization)                                               \n",
            "                                                                 \n",
            " activation_26 (Activation)  (None, 148, 148, 64)      0         \n",
            "                                                                 \n",
            " max_pooling2d_26 (MaxPooli  (None, 74, 74, 64)        0         \n",
            " ng2D)                                                           \n",
            "                                                                 \n",
            " dropout_26 (Dropout)        (None, 74, 74, 64)        0         \n",
            "                                                                 \n",
            " conv2d_27 (Conv2D)          (None, 72, 72, 64)        36928     \n",
            "                                                                 \n",
            " batch_normalization_41 (Ba  (None, 72, 72, 64)        256       \n",
            " tchNormalization)                                               \n",
            "                                                                 \n",
            " activation_27 (Activation)  (None, 72, 72, 64)        0         \n",
            "                                                                 \n",
            " max_pooling2d_27 (MaxPooli  (None, 36, 36, 64)        0         \n",
            " ng2D)                                                           \n",
            "                                                                 \n",
            " dropout_27 (Dropout)        (None, 36, 36, 64)        0         \n",
            "                                                                 \n",
            " conv2d_28 (Conv2D)          (None, 34, 34, 128)       73856     \n",
            "                                                                 \n",
            " batch_normalization_42 (Ba  (None, 34, 34, 128)       512       \n",
            " tchNormalization)                                               \n",
            "                                                                 \n",
            " activation_28 (Activation)  (None, 34, 34, 128)       0         \n",
            "                                                                 \n",
            " max_pooling2d_28 (MaxPooli  (None, 17, 17, 128)       0         \n",
            " ng2D)                                                           \n",
            "                                                                 \n",
            " dropout_28 (Dropout)        (None, 17, 17, 128)       0         \n",
            "                                                                 \n",
            " conv2d_29 (Conv2D)          (None, 15, 15, 128)       147584    \n",
            "                                                                 \n",
            " batch_normalization_43 (Ba  (None, 15, 15, 128)       512       \n",
            " tchNormalization)                                               \n",
            "                                                                 \n",
            " activation_29 (Activation)  (None, 15, 15, 128)       0         \n",
            "                                                                 \n",
            " max_pooling2d_29 (MaxPooli  (None, 7, 7, 128)         0         \n",
            " ng2D)                                                           \n",
            "                                                                 \n",
            " dropout_29 (Dropout)        (None, 7, 7, 128)         0         \n",
            "                                                                 \n",
            " flatten_7 (Flatten)         (None, 6272)              0         \n",
            "                                                                 \n",
            " dense_21 (Dense)            (None, 512)               3211776   \n",
            "                                                                 \n",
            " batch_normalization_44 (Ba  (None, 512)               2048      \n",
            " tchNormalization)                                               \n",
            "                                                                 \n",
            " dense_22 (Dense)            (None, 256)               131328    \n",
            "                                                                 \n",
            " batch_normalization_45 (Ba  (None, 256)               1024      \n",
            " tchNormalization)                                               \n",
            "                                                                 \n",
            " dense_23 (Dense)            (None, 1)                 257       \n",
            "                                                                 \n",
            "=================================================================\n",
            "Total params: 3608129 (13.76 MB)\n",
            "Trainable params: 3605825 (13.76 MB)\n",
            "Non-trainable params: 2304 (9.00 KB)\n",
            "_________________________________________________________________\n"
          ]
        }
      ]
    },
    {
      "cell_type": "code",
      "source": [
        "history_4 = model_4.fit(train_ds, epochs=12, batch_size=32, validation_data=val_ds)"
      ],
      "metadata": {
        "id": "lZ5ommk4SndZ",
        "colab": {
          "base_uri": "https://localhost:8080/"
        },
        "outputId": "b47f13ed-6d41-4950-c201-0a3435f3fc4a"
      },
      "execution_count": null,
      "outputs": [
        {
          "output_type": "stream",
          "name": "stdout",
          "text": [
            "Epoch 1/12\n",
            "20/20 [==============================] - 15s 288ms/step - loss: 0.3156 - accuracy: 0.8776 - val_loss: 2.8003 - val_accuracy: 0.5135\n",
            "Epoch 2/12\n",
            "20/20 [==============================] - 11s 413ms/step - loss: 0.1505 - accuracy: 0.9475 - val_loss: 3.9720 - val_accuracy: 0.5225\n",
            "Epoch 3/12\n",
            "20/20 [==============================] - 11s 299ms/step - loss: 0.0829 - accuracy: 0.9746 - val_loss: 1.6289 - val_accuracy: 0.5766\n",
            "Epoch 4/12\n",
            "20/20 [==============================] - 8s 285ms/step - loss: 0.0421 - accuracy: 0.9889 - val_loss: 1.0759 - val_accuracy: 0.6396\n",
            "Epoch 5/12\n",
            "20/20 [==============================] - 10s 290ms/step - loss: 0.0554 - accuracy: 0.9762 - val_loss: 2.3372 - val_accuracy: 0.5766\n",
            "Epoch 6/12\n",
            "20/20 [==============================] - 11s 441ms/step - loss: 0.0636 - accuracy: 0.9762 - val_loss: 0.7678 - val_accuracy: 0.7027\n",
            "Epoch 7/12\n",
            "20/20 [==============================] - 8s 282ms/step - loss: 0.0722 - accuracy: 0.9698 - val_loss: 4.0359 - val_accuracy: 0.5045\n",
            "Epoch 8/12\n",
            "20/20 [==============================] - 11s 395ms/step - loss: 0.0628 - accuracy: 0.9714 - val_loss: 0.4267 - val_accuracy: 0.8378\n",
            "Epoch 9/12\n",
            "20/20 [==============================] - 10s 361ms/step - loss: 0.0455 - accuracy: 0.9873 - val_loss: 0.2468 - val_accuracy: 0.8829\n",
            "Epoch 10/12\n",
            "20/20 [==============================] - 10s 287ms/step - loss: 0.0286 - accuracy: 0.9921 - val_loss: 0.2313 - val_accuracy: 0.9009\n",
            "Epoch 11/12\n",
            "20/20 [==============================] - 12s 457ms/step - loss: 0.0217 - accuracy: 0.9921 - val_loss: 0.0899 - val_accuracy: 0.9640\n",
            "Epoch 12/12\n",
            "20/20 [==============================] - 8s 277ms/step - loss: 0.0435 - accuracy: 0.9825 - val_loss: 0.0585 - val_accuracy: 0.9820\n"
          ]
        }
      ]
    },
    {
      "cell_type": "code",
      "source": [
        "model_4.save('/content/drive/MyDrive/NNDL/HW2/Q3/NNDL_HW2_4layres.h5')"
      ],
      "metadata": {
        "id": "XTtIAksTSndZ",
        "colab": {
          "base_uri": "https://localhost:8080/"
        },
        "outputId": "4ca62fe7-65da-47eb-e3b4-ac4ad355098a"
      },
      "execution_count": null,
      "outputs": [
        {
          "output_type": "stream",
          "name": "stderr",
          "text": [
            "/usr/local/lib/python3.10/dist-packages/keras/src/engine/training.py:3079: UserWarning: You are saving your model as an HDF5 file via `model.save()`. This file format is considered legacy. We recommend using instead the native Keras format, e.g. `model.save('my_model.keras')`.\n",
            "  saving_api.save_model(\n"
          ]
        }
      ]
    },
    {
      "cell_type": "code",
      "source": [
        "model_4.evaluate(test_ds)"
      ],
      "metadata": {
        "colab": {
          "base_uri": "https://localhost:8080/"
        },
        "outputId": "8f227809-d5d1-4ef0-8271-1db715bb7727",
        "id": "iNeysRspSnda"
      },
      "execution_count": null,
      "outputs": [
        {
          "output_type": "stream",
          "name": "stdout",
          "text": [
            "2/2 [==============================] - 0s 44ms/step - loss: 0.0495 - accuracy: 0.9750\n"
          ]
        },
        {
          "output_type": "execute_result",
          "data": {
            "text/plain": [
              "[0.04954029992222786, 0.9750000238418579]"
            ]
          },
          "metadata": {},
          "execution_count": 63
        }
      ]
    },
    {
      "cell_type": "code",
      "source": [
        "from tensorflow.keras.models import Sequential\n",
        "from tensorflow.keras.layers import Conv2D, MaxPooling2D, BatchNormalization, Flatten, Dense, Dropout\n",
        "from tensorflow.keras.activations import relu\n",
        "from tensorflow.keras.layers import Activation  # Add this import for Activation\n",
        "from tensorflow.keras.optimizers import Adam\n",
        "\n",
        "# Create a Sequential model\n",
        "model_5 = Sequential()\n",
        "\n",
        "# Convolutional Layer 1\n",
        "model_5.add(Conv2D(64, (3, 3), activation=None, input_shape=(150, 150, 3)))\n",
        "model_5.add(BatchNormalization(axis=-1))\n",
        "model_5.add(Activation('relu'))\n",
        "model_5.add(MaxPooling2D(pool_size=(2, 2)))\n",
        "model_5.add(Dropout(0.2))\n",
        "\n",
        "# Convolutional Layer 2\n",
        "model_5.add(Conv2D(64, (3, 3), activation=None))\n",
        "model_5.add(BatchNormalization(axis=-1))\n",
        "model_5.add(Activation('relu'))\n",
        "model_5.add(MaxPooling2D(pool_size=(2, 2)))\n",
        "model_5.add(Dropout(0.2))\n",
        "\n",
        "# Convolutional Layer 3\n",
        "model_5.add(Conv2D(128, (3, 3), activation=None))\n",
        "model_5.add(BatchNormalization(axis=-1))\n",
        "model_5.add(Activation('relu'))\n",
        "model_5.add(MaxPooling2D(pool_size=(2, 2)))\n",
        "model_5.add(Dropout(0.2))\n",
        "\n",
        "# Convolutional Layer 4\n",
        "model_5.add(Conv2D(128, (3, 3), activation=None))\n",
        "model_5.add(BatchNormalization(axis=-1))\n",
        "model_5.add(Activation('relu'))\n",
        "model_5.add(MaxPooling2D(pool_size=(2, 2)))\n",
        "model_5.add(Dropout(0.2))\n",
        "\n",
        "# Convolutional Layer 5\n",
        "model_5.add(Conv2D(256, (3, 3), activation=None))\n",
        "model_5.add(BatchNormalization(axis=-1))\n",
        "model_5.add(Activation('relu'))\n",
        "model_5.add(MaxPooling2D(pool_size=(2, 2)))\n",
        "model_5.add(Dropout(0.2))\n",
        "\n",
        "\n",
        "\n",
        "# Flatten the feature maps\n",
        "model_5.add(Flatten())\n",
        "\n",
        "# Fully Connected Layer 1\n",
        "model_5.add(Dense(512, activation='relu'))\n",
        "model_5.add(BatchNormalization(axis=-1))\n",
        "# Fully Connected Layer 2\n",
        "model_5.add(Dense(256, activation='relu'))\n",
        "model_5.add(BatchNormalization(axis=-1))\n",
        "# Fully Connected Layer 3\n",
        "model_5.add(Dense(1, activation='sigmoid'))\n",
        "\n",
        "\n",
        "optimizer = Adam(learning_rate=0.0006)\n",
        "\n",
        "# Compile the model\n",
        "model_5.compile(loss='binary_crossentropy', optimizer=optimizer, metrics=['accuracy'])\n",
        "\n",
        "# Print the model summary\n",
        "model_5.summary()"
      ],
      "metadata": {
        "id": "tHkDrlHGO4-0",
        "colab": {
          "base_uri": "https://localhost:8080/"
        },
        "outputId": "fb541959-6c1b-4b98-9fce-e10f1dc97960"
      },
      "execution_count": null,
      "outputs": [
        {
          "output_type": "stream",
          "name": "stdout",
          "text": [
            "Model: \"sequential_6\"\n",
            "_________________________________________________________________\n",
            " Layer (type)                Output Shape              Param #   \n",
            "=================================================================\n",
            " conv2d_21 (Conv2D)          (None, 148, 148, 64)      1792      \n",
            "                                                                 \n",
            " batch_normalization_33 (Ba  (None, 148, 148, 64)      256       \n",
            " tchNormalization)                                               \n",
            "                                                                 \n",
            " activation_21 (Activation)  (None, 148, 148, 64)      0         \n",
            "                                                                 \n",
            " max_pooling2d_21 (MaxPooli  (None, 74, 74, 64)        0         \n",
            " ng2D)                                                           \n",
            "                                                                 \n",
            " dropout_21 (Dropout)        (None, 74, 74, 64)        0         \n",
            "                                                                 \n",
            " conv2d_22 (Conv2D)          (None, 72, 72, 64)        36928     \n",
            "                                                                 \n",
            " batch_normalization_34 (Ba  (None, 72, 72, 64)        256       \n",
            " tchNormalization)                                               \n",
            "                                                                 \n",
            " activation_22 (Activation)  (None, 72, 72, 64)        0         \n",
            "                                                                 \n",
            " max_pooling2d_22 (MaxPooli  (None, 36, 36, 64)        0         \n",
            " ng2D)                                                           \n",
            "                                                                 \n",
            " dropout_22 (Dropout)        (None, 36, 36, 64)        0         \n",
            "                                                                 \n",
            " conv2d_23 (Conv2D)          (None, 34, 34, 128)       73856     \n",
            "                                                                 \n",
            " batch_normalization_35 (Ba  (None, 34, 34, 128)       512       \n",
            " tchNormalization)                                               \n",
            "                                                                 \n",
            " activation_23 (Activation)  (None, 34, 34, 128)       0         \n",
            "                                                                 \n",
            " max_pooling2d_23 (MaxPooli  (None, 17, 17, 128)       0         \n",
            " ng2D)                                                           \n",
            "                                                                 \n",
            " dropout_23 (Dropout)        (None, 17, 17, 128)       0         \n",
            "                                                                 \n",
            " conv2d_24 (Conv2D)          (None, 15, 15, 128)       147584    \n",
            "                                                                 \n",
            " batch_normalization_36 (Ba  (None, 15, 15, 128)       512       \n",
            " tchNormalization)                                               \n",
            "                                                                 \n",
            " activation_24 (Activation)  (None, 15, 15, 128)       0         \n",
            "                                                                 \n",
            " max_pooling2d_24 (MaxPooli  (None, 7, 7, 128)         0         \n",
            " ng2D)                                                           \n",
            "                                                                 \n",
            " dropout_24 (Dropout)        (None, 7, 7, 128)         0         \n",
            "                                                                 \n",
            " conv2d_25 (Conv2D)          (None, 5, 5, 256)         295168    \n",
            "                                                                 \n",
            " batch_normalization_37 (Ba  (None, 5, 5, 256)         1024      \n",
            " tchNormalization)                                               \n",
            "                                                                 \n",
            " activation_25 (Activation)  (None, 5, 5, 256)         0         \n",
            "                                                                 \n",
            " max_pooling2d_25 (MaxPooli  (None, 2, 2, 256)         0         \n",
            " ng2D)                                                           \n",
            "                                                                 \n",
            " dropout_25 (Dropout)        (None, 2, 2, 256)         0         \n",
            "                                                                 \n",
            " flatten_6 (Flatten)         (None, 1024)              0         \n",
            "                                                                 \n",
            " dense_18 (Dense)            (None, 512)               524800    \n",
            "                                                                 \n",
            " batch_normalization_38 (Ba  (None, 512)               2048      \n",
            " tchNormalization)                                               \n",
            "                                                                 \n",
            " dense_19 (Dense)            (None, 256)               131328    \n",
            "                                                                 \n",
            " batch_normalization_39 (Ba  (None, 256)               1024      \n",
            " tchNormalization)                                               \n",
            "                                                                 \n",
            " dense_20 (Dense)            (None, 1)                 257       \n",
            "                                                                 \n",
            "=================================================================\n",
            "Total params: 1217345 (4.64 MB)\n",
            "Trainable params: 1214529 (4.63 MB)\n",
            "Non-trainable params: 2816 (11.00 KB)\n",
            "_________________________________________________________________\n"
          ]
        }
      ]
    },
    {
      "cell_type": "code",
      "source": [
        "history_5 = model_5.fit(train_ds, epochs=12, batch_size=32, validation_data=val_ds)"
      ],
      "metadata": {
        "id": "TYq86CJDTDZa",
        "colab": {
          "base_uri": "https://localhost:8080/"
        },
        "outputId": "20488353-1cbc-4e64-c799-c793b364dcff"
      },
      "execution_count": null,
      "outputs": [
        {
          "output_type": "stream",
          "name": "stdout",
          "text": [
            "Epoch 1/12\n",
            "20/20 [==============================] - 17s 331ms/step - loss: 0.4278 - accuracy: 0.8362 - val_loss: 2.8079 - val_accuracy: 0.5135\n",
            "Epoch 2/12\n",
            "20/20 [==============================] - 10s 354ms/step - loss: 0.2686 - accuracy: 0.9126 - val_loss: 3.1670 - val_accuracy: 0.5135\n",
            "Epoch 3/12\n",
            "20/20 [==============================] - 9s 288ms/step - loss: 0.1656 - accuracy: 0.9380 - val_loss: 5.7520 - val_accuracy: 0.5135\n",
            "Epoch 4/12\n",
            "20/20 [==============================] - 12s 424ms/step - loss: 0.1404 - accuracy: 0.9523 - val_loss: 1.2294 - val_accuracy: 0.5135\n",
            "Epoch 5/12\n",
            "20/20 [==============================] - 10s 363ms/step - loss: 0.1460 - accuracy: 0.9507 - val_loss: 0.9612 - val_accuracy: 0.5856\n",
            "Epoch 6/12\n",
            "20/20 [==============================] - 10s 293ms/step - loss: 0.1221 - accuracy: 0.9523 - val_loss: 0.6020 - val_accuracy: 0.7568\n",
            "Epoch 7/12\n",
            "20/20 [==============================] - 11s 430ms/step - loss: 0.0885 - accuracy: 0.9650 - val_loss: 0.3402 - val_accuracy: 0.8559\n",
            "Epoch 8/12\n",
            "20/20 [==============================] - 8s 284ms/step - loss: 0.0893 - accuracy: 0.9682 - val_loss: 0.0517 - val_accuracy: 0.9820\n",
            "Epoch 9/12\n",
            "20/20 [==============================] - 11s 402ms/step - loss: 0.1002 - accuracy: 0.9587 - val_loss: 1.1514 - val_accuracy: 0.6847\n",
            "Epoch 10/12\n",
            "20/20 [==============================] - 10s 358ms/step - loss: 0.1098 - accuracy: 0.9603 - val_loss: 0.0613 - val_accuracy: 0.9820\n",
            "Epoch 11/12\n",
            "20/20 [==============================] - 10s 294ms/step - loss: 0.0545 - accuracy: 0.9762 - val_loss: 0.1239 - val_accuracy: 0.9640\n",
            "Epoch 12/12\n",
            "20/20 [==============================] - 11s 429ms/step - loss: 0.0576 - accuracy: 0.9841 - val_loss: 0.2079 - val_accuracy: 0.9369\n"
          ]
        }
      ]
    },
    {
      "cell_type": "code",
      "source": [
        "model_5.save('/content/drive/MyDrive/NNDL/HW2/Q3/NNDL_HW2_5layres.h5')"
      ],
      "metadata": {
        "id": "MsIeTV3MTW0f",
        "colab": {
          "base_uri": "https://localhost:8080/"
        },
        "outputId": "fceacdee-cda3-4c05-8325-c39af4db980e"
      },
      "execution_count": null,
      "outputs": [
        {
          "output_type": "stream",
          "name": "stderr",
          "text": [
            "/usr/local/lib/python3.10/dist-packages/keras/src/engine/training.py:3079: UserWarning: You are saving your model as an HDF5 file via `model.save()`. This file format is considered legacy. We recommend using instead the native Keras format, e.g. `model.save('my_model.keras')`.\n",
            "  saving_api.save_model(\n"
          ]
        }
      ]
    },
    {
      "cell_type": "code",
      "source": [
        "model_5.evaluate(test_ds)"
      ],
      "metadata": {
        "colab": {
          "base_uri": "https://localhost:8080/"
        },
        "id": "UMpQjDeiTT0T",
        "outputId": "b1d012e5-e32e-4140-a2bb-3f70a2d4ec03"
      },
      "execution_count": null,
      "outputs": [
        {
          "output_type": "stream",
          "name": "stdout",
          "text": [
            "2/2 [==============================] - 1s 114ms/step - loss: 0.2531 - accuracy: 0.9250\n"
          ]
        },
        {
          "output_type": "execute_result",
          "data": {
            "text/plain": [
              "[0.2531324028968811, 0.925000011920929]"
            ]
          },
          "metadata": {},
          "execution_count": 46
        }
      ]
    },
    {
      "cell_type": "code",
      "source": [
        "models = [ model_1, model_2, model_3, model_4, model_5 , model]\n",
        "test_accuracies = []\n",
        "test_losses = []\n",
        "\n",
        "for model in models:\n",
        "    loss, accuracy = model.evaluate(test_ds)\n",
        "    test_losses.append(loss)\n",
        "    test_accuracies.append(accuracy)"
      ],
      "metadata": {
        "id": "JXTNDgAOc5oD",
        "colab": {
          "base_uri": "https://localhost:8080/"
        },
        "outputId": "67a0a7c0-132f-4c85-844c-7d17aafa11b7"
      },
      "execution_count": null,
      "outputs": [
        {
          "output_type": "stream",
          "name": "stdout",
          "text": [
            "2/2 [==============================] - 1s 95ms/step - loss: 0.0231 - accuracy: 0.9750\n",
            "2/2 [==============================] - 1s 96ms/step - loss: 0.4287 - accuracy: 0.8500\n",
            "2/2 [==============================] - 1s 77ms/step - loss: 0.0882 - accuracy: 0.9500\n",
            "2/2 [==============================] - 1s 111ms/step - loss: 0.0495 - accuracy: 0.9750\n",
            "2/2 [==============================] - 1s 96ms/step - loss: 0.2531 - accuracy: 0.9250\n",
            "2/2 [==============================] - 0s 59ms/step - loss: 0.2531 - accuracy: 0.9250\n"
          ]
        }
      ]
    },
    {
      "cell_type": "code",
      "source": [
        "import matplotlib.pyplot as plt\n",
        "\n",
        "model_names = [\"Model 1\", \"Model 2\", \"Model 3\", \"Model 4\", \"Model 5 \",\"model 6\"]\n",
        "\n",
        "\n",
        "# Indices for x-axis\n",
        "x_indices = range(len(model_names))\n",
        "\n",
        "# Plotting test accuracy\n",
        "plt.figure(figsize=(10, 6))\n",
        "plt.plot(x_indices, test_accuracies, marker='o', linestyle='-', color='blue', label='Test Accuracy')\n",
        "plt.xticks(ticks=x_indices, labels=model_names)  # Set model names as x-axis labels\n",
        "plt.xlabel('Models')\n",
        "plt.ylabel('Accuracy')\n",
        "plt.title('Test Accuracy of Different Models')\n",
        "plt.legend()\n",
        "plt.grid(True)\n",
        "plt.show()\n",
        "\n",
        "# Plotting test loss\n",
        "plt.figure(figsize=(10, 5))\n",
        "plt.plot(x_indices, test_losses, marker='o', linestyle='-', color='red', label='Test Loss')\n",
        "plt.xticks(ticks=x_indices, labels=model_names)  # Set model names as x-axis labels\n",
        "plt.xlabel('Models')\n",
        "plt.ylabel('Loss')\n",
        "plt.title('Test Loss of Different Models')\n",
        "plt.legend()\n",
        "plt.grid(True)\n",
        "plt.show()\n"
      ],
      "metadata": {
        "colab": {
          "base_uri": "https://localhost:8080/",
          "height": 941
        },
        "id": "zhTaQx2kDmP3",
        "outputId": "fad7e25d-c2a0-437a-e71c-eaccc17d08fa"
      },
      "execution_count": null,
      "outputs": [
        {
          "output_type": "display_data",
          "data": {
            "text/plain": [
              "<Figure size 1000x600 with 1 Axes>"
            ],
            "image/png": "[encoded data removed]"
          },
          "metadata": {}
        },
        {
          "output_type": "display_data",
          "data": {
            "text/plain": [
              "<Figure size 1000x500 with 1 Axes>"
            ],
            "image/png": "[encoded data removed]"
          },
          "metadata": {}
        }
      ]
    }
  ]
}