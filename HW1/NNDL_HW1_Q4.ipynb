{
  "nbformat": 4,
  "nbformat_minor": 0,
  "metadata": {
    "colab": {
      "provenance": []
    },
    "kernelspec": {
      "name": "python3",
      "display_name": "Python 3"
    },
    "language_info": {
      "name": "python"
    }
  },
  "cells": [
    {
      "cell_type": "code",
      "execution_count": null,
      "metadata": {
        "id": "inwVRkEyFgfp"
      },
      "outputs": [],
      "source": [
        "import torch\n",
        "import torchvision\n",
        "import torchvision.transforms as transforms\n",
        "import matplotlib.pyplot as plt\n",
        "import numpy as np\n",
        "import torch.nn as nn\n",
        "import torch.optim as optim\n",
        "from tqdm import tqdm"
      ]
    },
    {
      "cell_type": "code",
      "source": [
        "# Set random seed for reproducibility\n",
        "torch.manual_seed(42)\n",
        "\n",
        "# Define data transformations\n",
        "transform = transforms.Compose([transforms.ToTensor(), transforms.Normalize((0.5,), (0.5,))])\n",
        "\n",
        "# Download the MNIST dataset\n",
        "train_dataset = torchvision.datasets.MNIST(root='./data', train=True, transform=transform, download=True)\n",
        "test_dataset = torchvision.datasets.MNIST(root='./data', train=False, transform=transform, download=True)\n",
        "\n",
        "# Create data loaders\n",
        "batch_size = 64\n",
        "\n",
        "train_loader = torch.utils.data.DataLoader(train_dataset, batch_size=batch_size, shuffle=True)\n",
        "test_loader = torch.utils.data.DataLoader(test_dataset, batch_size=batch_size, shuffle=False)"
      ],
      "metadata": {
        "id": "xf932dSqFwRV",
        "colab": {
          "base_uri": "https://localhost:8080/"
        },
        "outputId": "53bc08e0-49ac-4f04-e295-ad710be4ee13"
      },
      "execution_count": null,
      "outputs": [
        {
          "output_type": "stream",
          "name": "stdout",
          "text": [
            "Downloading http://yann.lecun.com/exdb/mnist/train-images-idx3-ubyte.gz\n",
            "Downloading http://yann.lecun.com/exdb/mnist/train-images-idx3-ubyte.gz to ./data/MNIST/raw/train-images-idx3-ubyte.gz\n"
          ]
        },
        {
          "output_type": "stream",
          "name": "stderr",
          "text": [
            "100%|██████████| 9912422/9912422 [00:00<00:00, 87061347.61it/s]\n"
          ]
        },
        {
          "output_type": "stream",
          "name": "stdout",
          "text": [
            "Extracting ./data/MNIST/raw/train-images-idx3-ubyte.gz to ./data/MNIST/raw\n",
            "\n",
            "Downloading http://yann.lecun.com/exdb/mnist/train-labels-idx1-ubyte.gz\n",
            "Downloading http://yann.lecun.com/exdb/mnist/train-labels-idx1-ubyte.gz to ./data/MNIST/raw/train-labels-idx1-ubyte.gz\n"
          ]
        },
        {
          "output_type": "stream",
          "name": "stderr",
          "text": [
            "100%|██████████| 28881/28881 [00:00<00:00, 35388750.75it/s]\n"
          ]
        },
        {
          "output_type": "stream",
          "name": "stdout",
          "text": [
            "Extracting ./data/MNIST/raw/train-labels-idx1-ubyte.gz to ./data/MNIST/raw\n",
            "\n",
            "Downloading http://yann.lecun.com/exdb/mnist/t10k-images-idx3-ubyte.gz\n",
            "Downloading http://yann.lecun.com/exdb/mnist/t10k-images-idx3-ubyte.gz to ./data/MNIST/raw/t10k-images-idx3-ubyte.gz\n"
          ]
        },
        {
          "output_type": "stream",
          "name": "stderr",
          "text": [
            "100%|██████████| 1648877/1648877 [00:00<00:00, 21057428.97it/s]\n"
          ]
        },
        {
          "output_type": "stream",
          "name": "stdout",
          "text": [
            "Extracting ./data/MNIST/raw/t10k-images-idx3-ubyte.gz to ./data/MNIST/raw\n",
            "\n",
            "Downloading http://yann.lecun.com/exdb/mnist/t10k-labels-idx1-ubyte.gz\n",
            "Downloading http://yann.lecun.com/exdb/mnist/t10k-labels-idx1-ubyte.gz to ./data/MNIST/raw/t10k-labels-idx1-ubyte.gz\n"
          ]
        },
        {
          "output_type": "stream",
          "name": "stderr",
          "text": [
            "100%|██████████| 4542/4542 [00:00<00:00, 16799408.08it/s]\n"
          ]
        },
        {
          "output_type": "stream",
          "name": "stdout",
          "text": [
            "Extracting ./data/MNIST/raw/t10k-labels-idx1-ubyte.gz to ./data/MNIST/raw\n",
            "\n"
          ]
        }
      ]
    },
    {
      "cell_type": "code",
      "source": [
        "# Number of training samples\n",
        "num_train_samples = len(train_loader.dataset)\n",
        "\n",
        "# Number of test samples\n",
        "num_test_samples = len(test_loader.dataset)\n",
        "\n",
        "# Dimensions of the images in the dataset\n",
        "image, label = next(iter(train_loader))\n",
        "image_shape = image.size()[1:]\n",
        "\n",
        "print(\"Number of training samples:\", num_train_samples)\n",
        "print(\"Number of test samples:\", num_test_samples)\n",
        "print(\"Dimensions of the images:\", image_shape)\n"
      ],
      "metadata": {
        "colab": {
          "base_uri": "https://localhost:8080/"
        },
        "id": "Rp7jQiaZGBl8",
        "outputId": "06bd3dad-f841-48d9-bd6d-4f29f651554d"
      },
      "execution_count": null,
      "outputs": [
        {
          "output_type": "stream",
          "name": "stdout",
          "text": [
            "Number of training samples: 60000\n",
            "Number of test samples: 10000\n",
            "Dimensions of the images: torch.Size([1, 28, 28])\n"
          ]
        }
      ]
    },
    {
      "cell_type": "code",
      "source": [
        "\n",
        "# Define a dictionary to map class labels to their corresponding names\n",
        "class_names = {\n",
        "    0: 'Zero',\n",
        "    1: 'One',\n",
        "    2: 'Two',\n",
        "    3: 'Three',\n",
        "    4: 'Four',\n",
        "    5: 'Five',\n",
        "    6: 'Six',\n",
        "    7: 'Seven',\n",
        "    8: 'Eight',\n",
        "    9: 'Nine'\n",
        "}\n",
        "\n",
        "# Function to display an example image from each class\n",
        "def display_example_images(dataset, class_names):\n",
        "    fig, axs = plt.subplots(1, len(class_names), figsize=(15, 3))\n",
        "\n",
        "    for class_label, ax in enumerate(axs):\n",
        "        example_image, _ = next((image, label) for image, label in dataset if label == class_label)\n",
        "        ax.imshow(example_image[0], cmap='gray')\n",
        "        ax.set_title(class_names[class_label])\n",
        "        ax.axis('off')\n",
        "\n",
        "    plt.show()\n",
        "\n",
        "display_example_images(train_dataset, class_names)\n"
      ],
      "metadata": {
        "colab": {
          "base_uri": "https://localhost:8080/",
          "height": 157
        },
        "id": "Zf5Z9SODIFH8",
        "outputId": "d614e944-999e-4645-a159-d7d108400741"
      },
      "execution_count": null,
      "outputs": [
        {
          "output_type": "display_data",
          "data": {
            "text/plain": [
              "<Figure size 1500x300 with 10 Axes>"
            ],
            "image/png": "[encoded data removed]"
          },
          "metadata": {}
        }
      ]
    },
    {
      "cell_type": "code",
      "source": [
        "\n",
        "# Get the labels (class IDs) for the training dataset\n",
        "labels = [label for _, label in train_dataset]\n",
        "\n",
        "# Count the number of samples for each class\n",
        "class_counts = np.bincount(labels)\n",
        "\n",
        "# Define custom colors for each bar\n",
        "colors = ['red', 'blue', 'green', 'purple', 'orange', 'pink', 'brown', 'gray', 'cyan', 'magenta']\n",
        "\n",
        "# Create a bar chart (histogram) with custom colors\n",
        "plt.figure(figsize=(10, 5))\n",
        "plt.bar(range(10), class_counts, tick_label=[str(i) for i in range(10)], color=colors)\n",
        "plt.xlabel('Class (Digit)')\n",
        "plt.ylabel('Number of Samples')\n",
        "plt.title('Class Distribution in Training Data')\n",
        "plt.show()1\n",
        "\n"
      ],
      "metadata": {
        "colab": {
          "base_uri": "https://localhost:8080/",
          "height": 487
        },
        "id": "cWU8z6iaInX8",
        "outputId": "a5b9bd1b-f460-47f5-c219-eb1a08882874"
      },
      "execution_count": null,
      "outputs": [
        {
          "output_type": "display_data",
          "data": {
            "text/plain": [
              "<Figure size 1000x500 with 1 Axes>"
            ],
            "image/png": "[encoded data removed]"
          },
          "metadata": {}
        }
      ]
    },
    {
      "cell_type": "code",
      "source": [
        "\n",
        "# Define a function to perform min-max normalization on the dataset\n",
        "def min_max_normalization(data):\n",
        "    min_val = data.min()\n",
        "    max_val = data.max()\n",
        "    normalized_data = (data - min_val) / (max_val - min_val)\n",
        "    return normalized_data\n",
        "\n",
        "# Apply min-max normalization to the training and test data\n",
        "for i, (images, labels) in enumerate(train_loader):\n",
        "  train_loader.dataset.data[i] = min_max_normalization(images[0])\n",
        "\n",
        "for i, (images, labels) in enumerate(test_loader):\n",
        "  test_loader.dataset.data[i] = min_max_normalization(images[0])\n"
      ],
      "metadata": {
        "id": "FCmV0LTMJpbf"
      },
      "execution_count": null,
      "outputs": []
    },
    {
      "cell_type": "code",
      "source": [
        "import torch\n",
        "from torch.utils.data import DataLoader, random_split\n",
        "\n",
        "def train_val_split(data_loader, split_ratio=0.8):\n",
        "    dataset = data_loader.dataset\n",
        "    dataset_size = len(dataset)\n",
        "\n",
        "    train_size = int(split_ratio * dataset_size)\n",
        "    val_size = dataset_size - train_size\n",
        "\n",
        "    train_dataset, val_dataset = random_split(dataset, [train_size, val_size])\n",
        "\n",
        "    train_loader = DataLoader(train_dataset, batch_size=data_loader.batch_size, shuffle=True)\n",
        "    val_loader = DataLoader(val_dataset, batch_size=data_loader.batch_size, shuffle=False)\n",
        "\n",
        "    return train_loader, val_loader\n",
        "\n",
        "# Define your DataLoader and split ratio (e.g., 0.8 for 80% training and 20% validation)\n",
        "train_loader = torch.utils.data.DataLoader(train_dataset, batch_size=batch_size, shuffle=True)\n",
        "split_ratio = 0.8\n",
        "\n",
        "# Split the train_loader into training and validation DataLoader objects\n",
        "train_loader, val_loader = train_val_split(train_loader, split_ratio)\n",
        "\n",
        "# Now have separate DataLoader objects for training and validation\n"
      ],
      "metadata": {
        "id": "sfboAxmAnWmP"
      },
      "execution_count": null,
      "outputs": []
    },
    {
      "cell_type": "code",
      "source": [
        "\n",
        "# Define the neural network model\n",
        "class TeacherNetwork(nn.Module):\n",
        "    def __init__(self, input_size, hidden1_size, hidden2_size, output_size):\n",
        "        super(TeacherNetwork, self).__init__()  # Corrected line\n",
        "        self.fc1 = nn.Linear(input_size, hidden1_size)\n",
        "        self.relu1 = nn.ReLU()\n",
        "        self.fc2 = nn.Linear(hidden1_size, hidden2_size)\n",
        "        self.relu2 = nn.ReLU()\n",
        "        self.fc3 = nn.Linear(hidden2_size, output_size)\n",
        "\n",
        "    def forward(self, x):\n",
        "        x = self.fc1(x)\n",
        "        x = self.relu1(x)\n",
        "        x = self.fc2(x)\n",
        "        x = self.relu2(x)\n",
        "        x = self.fc3(x)\n",
        "        return x\n",
        "\n",
        "# Define the network architecture\n",
        "input_size = 784  # MNIST images are 28x28 pixels\n",
        "hidden1_size = 1024\n",
        "hidden2_size = 512\n",
        "output_size = 10  # 10 classes (digits 0-9)\n",
        "\n",
        "# Create the neural network\n",
        "teachernetwork = TeacherNetwork(input_size, hidden1_size, hidden2_size, output_size)\n",
        "\n",
        "# Print the model architecture\n",
        "print(teachernetwork)\n"
      ],
      "metadata": {
        "colab": {
          "base_uri": "https://localhost:8080/"
        },
        "id": "SJ9rNwlRGFSr",
        "outputId": "4fa37686-dba6-4a39-aa52-935c80c36581"
      },
      "execution_count": null,
      "outputs": [
        {
          "output_type": "stream",
          "name": "stdout",
          "text": [
            "TeacherNetwork(\n",
            "  (fc1): Linear(in_features=784, out_features=1024, bias=True)\n",
            "  (relu1): ReLU()\n",
            "  (fc2): Linear(in_features=1024, out_features=512, bias=True)\n",
            "  (relu2): ReLU()\n",
            "  (fc3): Linear(in_features=512, out_features=10, bias=True)\n",
            ")\n"
          ]
        }
      ]
    },
    {
      "cell_type": "code",
      "source": [
        "\n",
        "\n",
        "# Loss and optimizer\n",
        "criterion = nn.CrossEntropyLoss()\n",
        "optimizer = optim.SGD(teachernetwork.parameters(), lr=0.01)\n",
        "\n",
        "# Training settings\n",
        "num_epochs = 20\n",
        "train_loss_history = []\n",
        "test_loss_history = []\n",
        "train_accuracy_history = []\n",
        "test_accuracy_history = []\n",
        "\n",
        "# Training loop with tqdm progress bar\n",
        "for epoch in range(num_epochs):\n",
        "    teachernetwork.train()\n",
        "    running_loss = 0.0\n",
        "    correct_train = 0\n",
        "    total_train = 0\n",
        "\n",
        "    for inputs, labels in tqdm(train_loader, desc=f\"Epoch {epoch + 1}/{num_epochs}\"):\n",
        "        optimizer.zero_grad()\n",
        "        outputs = teachernetwork(inputs.view(-1, 784))\n",
        "        loss = criterion(outputs, labels)\n",
        "        loss.backward()\n",
        "        optimizer.step()\n",
        "        running_loss += loss.item()\n",
        "\n",
        "        _, predicted = torch.max(outputs, 1)\n",
        "        total_train += labels.size(0)\n",
        "        correct_train += (predicted == labels).sum().item()\n",
        "\n",
        "    train_loss = running_loss / len(train_loader)\n",
        "    train_accuracy = 100 * correct_train / total_train\n",
        "\n",
        "    teachernetwork.eval()\n",
        "    running_loss = 0.0\n",
        "    correct_test = 0\n",
        "    total_test = 0\n",
        "\n",
        "    with torch.no_grad():\n",
        "        for inputs, labels in val_loader:\n",
        "            outputs = teachernetwork(inputs.view(-1, 784))\n",
        "            loss = criterion(outputs, labels)\n",
        "            running_loss += loss.item()\n",
        "\n",
        "            _, predicted = torch.max(outputs.data, 1)\n",
        "            total_test += labels.size(0)\n",
        "            correct_test += (predicted == labels).sum().item()\n",
        "\n",
        "    test_loss = running_loss / len(val_loader)\n",
        "    test_accuracy = 100 * correct_test / total_test\n",
        "\n",
        "    print(f\"Epoch [{epoch + 1}/{num_epochs}] Train Loss: {train_loss:.4f} Test Loss: {test_loss:.4f} \"\n",
        "          f\"Train Accuracy: {train_accuracy:.2f}% val Accuracy: {test_accuracy:.2f}%\")\n",
        "\n",
        "    train_loss_history.append(train_loss)\n",
        "    test_loss_history.append(test_loss)\n",
        "    train_accuracy_history.append(train_accuracy)\n",
        "    test_accuracy_history.append(test_accuracy)\n",
        "\n",
        "\n",
        "# Plot loss and accuracy graphs\n",
        "plt.figure(figsize=(12, 4))\n",
        "plt.subplot(1, 2, 1)\n",
        "plt.plot(train_loss_history, label='Train Loss')\n",
        "plt.plot(test_loss_history, label='val Loss')\n",
        "plt.xlabel('Epoch')\n",
        "plt.ylabel('Loss')\n",
        "plt.legend()\n",
        "\n",
        "plt.subplot(1, 2, 2)\n",
        "plt.plot(train_accuracy_history, label='Train Accuracy')\n",
        "plt.plot(test_accuracy_history, label='val Accuracy')\n",
        "plt.xlabel('Epoch')\n",
        "plt.ylabel('Accuracy (%)')\n",
        "plt.legend()\n",
        "plt.show()\n"
      ],
      "metadata": {
        "colab": {
          "base_uri": "https://localhost:8080/",
          "height": 1000
        },
        "id": "yFiR2EhzGvaR",
        "outputId": "38778225-03d9-4cf9-fba9-ca407891d88e"
      },
      "execution_count": null,
      "outputs": [
        {
          "output_type": "stream",
          "name": "stderr",
          "text": [
            "Epoch 1/20: 100%|██████████| 750/750 [00:20<00:00, 36.28it/s]\n"
          ]
        },
        {
          "output_type": "stream",
          "name": "stdout",
          "text": [
            "Epoch [1/20] Train Loss: 0.9906 Test Loss: 0.4887 Train Accuracy: 76.25% val Accuracy: 86.02%\n"
          ]
        },
        {
          "output_type": "stream",
          "name": "stderr",
          "text": [
            "Epoch 2/20: 100%|██████████| 750/750 [00:19<00:00, 38.44it/s]\n"
          ]
        },
        {
          "output_type": "stream",
          "name": "stdout",
          "text": [
            "Epoch [2/20] Train Loss: 0.4150 Test Loss: 0.3844 Train Accuracy: 87.96% val Accuracy: 88.53%\n"
          ]
        },
        {
          "output_type": "stream",
          "name": "stderr",
          "text": [
            "Epoch 3/20: 100%|██████████| 750/750 [00:19<00:00, 38.33it/s]\n"
          ]
        },
        {
          "output_type": "stream",
          "name": "stdout",
          "text": [
            "Epoch [3/20] Train Loss: 0.3566 Test Loss: 0.3433 Train Accuracy: 89.45% val Accuracy: 89.91%\n"
          ]
        },
        {
          "output_type": "stream",
          "name": "stderr",
          "text": [
            "Epoch 4/20: 100%|██████████| 750/750 [00:19<00:00, 38.64it/s]\n"
          ]
        },
        {
          "output_type": "stream",
          "name": "stdout",
          "text": [
            "Epoch [4/20] Train Loss: 0.3241 Test Loss: 0.3184 Train Accuracy: 90.44% val Accuracy: 90.68%\n"
          ]
        },
        {
          "output_type": "stream",
          "name": "stderr",
          "text": [
            "Epoch 5/20: 100%|██████████| 750/750 [00:18<00:00, 39.81it/s]\n"
          ]
        },
        {
          "output_type": "stream",
          "name": "stdout",
          "text": [
            "Epoch [5/20] Train Loss: 0.2996 Test Loss: 0.3005 Train Accuracy: 91.07% val Accuracy: 91.12%\n"
          ]
        },
        {
          "output_type": "stream",
          "name": "stderr",
          "text": [
            "Epoch 6/20: 100%|██████████| 750/750 [00:18<00:00, 39.81it/s]\n"
          ]
        },
        {
          "output_type": "stream",
          "name": "stdout",
          "text": [
            "Epoch [6/20] Train Loss: 0.2779 Test Loss: 0.2856 Train Accuracy: 91.62% val Accuracy: 91.67%\n"
          ]
        },
        {
          "output_type": "stream",
          "name": "stderr",
          "text": [
            "Epoch 7/20: 100%|██████████| 750/750 [00:19<00:00, 38.62it/s]\n"
          ]
        },
        {
          "output_type": "stream",
          "name": "stdout",
          "text": [
            "Epoch [7/20] Train Loss: 0.2577 Test Loss: 0.2629 Train Accuracy: 92.29% val Accuracy: 92.22%\n"
          ]
        },
        {
          "output_type": "stream",
          "name": "stderr",
          "text": [
            "Epoch 8/20: 100%|██████████| 750/750 [00:19<00:00, 38.23it/s]\n"
          ]
        },
        {
          "output_type": "stream",
          "name": "stdout",
          "text": [
            "Epoch [8/20] Train Loss: 0.2403 Test Loss: 0.2527 Train Accuracy: 92.77% val Accuracy: 92.36%\n"
          ]
        },
        {
          "output_type": "stream",
          "name": "stderr",
          "text": [
            "Epoch 9/20: 100%|██████████| 750/750 [00:19<00:00, 37.91it/s]\n"
          ]
        },
        {
          "output_type": "stream",
          "name": "stdout",
          "text": [
            "Epoch [9/20] Train Loss: 0.2238 Test Loss: 0.2347 Train Accuracy: 93.28% val Accuracy: 92.74%\n"
          ]
        },
        {
          "output_type": "stream",
          "name": "stderr",
          "text": [
            "Epoch 10/20: 100%|██████████| 750/750 [00:18<00:00, 39.79it/s]\n"
          ]
        },
        {
          "output_type": "stream",
          "name": "stdout",
          "text": [
            "Epoch [10/20] Train Loss: 0.2093 Test Loss: 0.2237 Train Accuracy: 93.73% val Accuracy: 92.94%\n"
          ]
        },
        {
          "output_type": "stream",
          "name": "stderr",
          "text": [
            "Epoch 11/20: 100%|██████████| 750/750 [00:18<00:00, 40.01it/s]\n"
          ]
        },
        {
          "output_type": "stream",
          "name": "stdout",
          "text": [
            "Epoch [11/20] Train Loss: 0.1968 Test Loss: 0.2155 Train Accuracy: 94.04% val Accuracy: 93.24%\n"
          ]
        },
        {
          "output_type": "stream",
          "name": "stderr",
          "text": [
            "Epoch 12/20: 100%|██████████| 750/750 [00:21<00:00, 34.87it/s]\n"
          ]
        },
        {
          "output_type": "stream",
          "name": "stdout",
          "text": [
            "Epoch [12/20] Train Loss: 0.1862 Test Loss: 0.2009 Train Accuracy: 94.38% val Accuracy: 93.74%\n"
          ]
        },
        {
          "output_type": "stream",
          "name": "stderr",
          "text": [
            "Epoch 13/20: 100%|██████████| 750/750 [00:19<00:00, 38.45it/s]\n"
          ]
        },
        {
          "output_type": "stream",
          "name": "stdout",
          "text": [
            "Epoch [13/20] Train Loss: 0.1760 Test Loss: 0.1968 Train Accuracy: 94.62% val Accuracy: 93.91%\n"
          ]
        },
        {
          "output_type": "stream",
          "name": "stderr",
          "text": [
            "Epoch 14/20: 100%|██████████| 750/750 [00:19<00:00, 38.49it/s]\n"
          ]
        },
        {
          "output_type": "stream",
          "name": "stdout",
          "text": [
            "Epoch [14/20] Train Loss: 0.1672 Test Loss: 0.1888 Train Accuracy: 94.89% val Accuracy: 93.97%\n"
          ]
        },
        {
          "output_type": "stream",
          "name": "stderr",
          "text": [
            "Epoch 15/20: 100%|██████████| 750/750 [00:19<00:00, 38.40it/s]\n"
          ]
        },
        {
          "output_type": "stream",
          "name": "stdout",
          "text": [
            "Epoch [15/20] Train Loss: 0.1595 Test Loss: 0.1775 Train Accuracy: 95.13% val Accuracy: 94.33%\n"
          ]
        },
        {
          "output_type": "stream",
          "name": "stderr",
          "text": [
            "Epoch 16/20: 100%|██████████| 750/750 [00:19<00:00, 39.41it/s]\n"
          ]
        },
        {
          "output_type": "stream",
          "name": "stdout",
          "text": [
            "Epoch [16/20] Train Loss: 0.1522 Test Loss: 0.1751 Train Accuracy: 95.40% val Accuracy: 94.35%\n"
          ]
        },
        {
          "output_type": "stream",
          "name": "stderr",
          "text": [
            "Epoch 17/20: 100%|██████████| 750/750 [00:18<00:00, 39.51it/s]\n"
          ]
        },
        {
          "output_type": "stream",
          "name": "stdout",
          "text": [
            "Epoch [17/20] Train Loss: 0.1458 Test Loss: 0.1723 Train Accuracy: 95.58% val Accuracy: 94.45%\n"
          ]
        },
        {
          "output_type": "stream",
          "name": "stderr",
          "text": [
            "Epoch 18/20: 100%|██████████| 750/750 [00:18<00:00, 40.12it/s]\n"
          ]
        },
        {
          "output_type": "stream",
          "name": "stdout",
          "text": [
            "Epoch [18/20] Train Loss: 0.1395 Test Loss: 0.1668 Train Accuracy: 95.77% val Accuracy: 94.59%\n"
          ]
        },
        {
          "output_type": "stream",
          "name": "stderr",
          "text": [
            "Epoch 19/20: 100%|██████████| 750/750 [00:19<00:00, 38.22it/s]\n"
          ]
        },
        {
          "output_type": "stream",
          "name": "stdout",
          "text": [
            "Epoch [19/20] Train Loss: 0.1347 Test Loss: 0.1596 Train Accuracy: 95.89% val Accuracy: 94.75%\n"
          ]
        },
        {
          "output_type": "stream",
          "name": "stderr",
          "text": [
            "Epoch 20/20: 100%|██████████| 750/750 [00:19<00:00, 38.63it/s]\n"
          ]
        },
        {
          "output_type": "stream",
          "name": "stdout",
          "text": [
            "Epoch [20/20] Train Loss: 0.1289 Test Loss: 0.1604 Train Accuracy: 96.03% val Accuracy: 94.83%\n"
          ]
        },
        {
          "output_type": "display_data",
          "data": {
            "text/plain": [
              "<Figure size 1200x400 with 2 Axes>"
            ],
            "image/png": "[encoded data removed]"
          },
          "metadata": {}
        }
      ]
    },
    {
      "cell_type": "code",
      "source": [
        "# Evaluate the network on the test data\n",
        "teachernetwork.eval()\n",
        "correct = 0\n",
        "total = 0\n",
        "\n",
        "with torch.no_grad():\n",
        "    for inputs, labels in test_loader:\n",
        "        outputs = teachernetwork(inputs.view(-1, 784))\n",
        "        _, predicted = torch.max(outputs.data, 1)\n",
        "        total += labels.size(0)\n",
        "        correct += (predicted == labels).sum().item()\n",
        "\n",
        "test_accuracy = 100 * correct / total\n",
        "\n",
        "print(f\"Accuracy on the test data: {test_accuracy:.2f}%\")\n",
        "\n",
        "\n",
        "# Calculate the number of misclassifications on the test data\n",
        "misclassifications = total - correct\n",
        "\n",
        "print(f\"Number of misclassifications on the test data: {misclassifications}\")\n"
      ],
      "metadata": {
        "colab": {
          "base_uri": "https://localhost:8080/"
        },
        "id": "k295iWVeMieZ",
        "outputId": "8b2c5076-5ec2-4f93-b746-36ee3af08f8b"
      },
      "execution_count": null,
      "outputs": [
        {
          "output_type": "stream",
          "name": "stdout",
          "text": [
            "Accuracy on the test data: 95.30%\n",
            "Number of misclassifications on the test data: 470\n"
          ]
        }
      ]
    },
    {
      "cell_type": "code",
      "source": [
        "\n",
        "# Define the neural network model (Student's network)\n",
        "class StudentNetwork(nn.Module):\n",
        "    def __init__(self, input_size, hidden1_size, hidden2_size, output_size):\n",
        "        super(StudentNetwork, self).__init__()\n",
        "        self.fc1 = nn.Linear(input_size, hidden1_size)\n",
        "        self.relu1 = nn.ReLU()\n",
        "        self.fc2 = nn.Linear(hidden1_size, hidden2_size)\n",
        "        self.relu2 = nn.ReLU()\n",
        "        self.fc3 = nn.Linear(hidden2_size, output_size)\n",
        "\n",
        "    def forward(self, x):\n",
        "        x = self.fc1(x)\n",
        "        x = self.relu1(x)\n",
        "        x = self.fc2(x)\n",
        "        x = self.relu2(x)\n",
        "        x = self.fc3(x)\n",
        "        return x\n",
        "\n",
        "# Define the network architecture\n",
        "input_size = 784  # MNIST images are 28x28 pixels\n",
        "hidden1_size = 128\n",
        "hidden2_size = 64\n",
        "output_size = 10  # 10 classes (digits 0-9)\n",
        "\n",
        "# Create the Student's neural network\n",
        "student_model = StudentNetwork(input_size, hidden1_size, hidden2_size, output_size)\n",
        "\n",
        "# Loss and optimizer\n",
        "criterion = nn.CrossEntropyLoss()\n",
        "optimizer = optim.SGD(student_model.parameters(), lr=0.01)\n",
        "\n",
        "# Training settings\n",
        "num_epochs = 10\n",
        "misclassifications = 0  # Counter for misclassifications\n",
        "history_student=[]\n",
        "# Training loop\n",
        "for epoch in range(num_epochs):\n",
        "    student_model.train()\n",
        "    running_loss = 0.0\n",
        "\n",
        "    for inputs, labels in tqdm(train_loader, desc=f\"Epoch {epoch + 1}/{num_epochs}\"):\n",
        "        optimizer.zero_grad()\n",
        "        outputs = student_model(inputs.view(-1, 784))\n",
        "        loss = criterion(outputs, labels)\n",
        "        loss.backward()\n",
        "        optimizer.step()\n",
        "        running_loss += loss.item()\n",
        "\n",
        "    print(f\"Epoch [{epoch + 1}/{num_epochs}] Loss: {running_loss/ len(train_loader):.4f}\")\n",
        "    student_model.eval()\n",
        "    running_loss = 0.0\n",
        "    correct_test = 0\n",
        "    total_test = 0\n",
        "\n",
        "    with torch.no_grad():\n",
        "        for inputs, labels in train_loader:\n",
        "            outputs = student_model(inputs.view(-1, 784))\n",
        "            loss = criterion(outputs, labels)\n",
        "            running_loss += loss.item()\n",
        "\n",
        "            _, predicted = torch.max(outputs.data, 1)\n",
        "            total_test += labels.size(0)\n",
        "            correct_test += (predicted == labels).sum().item()\n",
        "\n",
        "    test_loss = running_loss / len(train_loader)\n",
        "    test_accuracy = 100 * correct_test / total_test\n",
        "    history_student.append(test_accuracy)\n",
        "\n",
        "# Evaluation on test data\n",
        "student_model.eval()\n",
        "correct = 0\n",
        "total = 0\n",
        "\n",
        "with torch.no_grad():\n",
        "    for inputs, labels in test_loader:\n",
        "        outputs = student_model(inputs.view(-1, 784))\n",
        "        _, predicted = torch.max(outputs.data, 1)\n",
        "        total += labels.size(0)\n",
        "        correct += (predicted == labels).sum().item()\n",
        "        misclassifications += (predicted != labels).sum().item()\n",
        "\n",
        "test_accuracy = 100 * correct / total\n",
        "\n",
        "\n",
        "\n",
        "print(f\"Accuracy on the test data: {test_accuracy:.2f}%\")\n",
        "print(f\"Number of misclassifications on the test data: {misclassifications}\")\n"
      ],
      "metadata": {
        "colab": {
          "base_uri": "https://localhost:8080/"
        },
        "id": "5FYDu6eaNIYh",
        "outputId": "d9855bbc-9c64-4e03-9480-e2712718b937"
      },
      "execution_count": null,
      "outputs": [
        {
          "output_type": "stream",
          "name": "stderr",
          "text": [
            "Epoch 1/10: 100%|██████████| 1875/1875 [00:17<00:00, 105.88it/s]\n"
          ]
        },
        {
          "output_type": "stream",
          "name": "stdout",
          "text": [
            "Epoch [1/10] Loss: 0.7704\n"
          ]
        },
        {
          "output_type": "stream",
          "name": "stderr",
          "text": [
            "Epoch 2/10: 100%|██████████| 1875/1875 [00:17<00:00, 105.61it/s]\n"
          ]
        },
        {
          "output_type": "stream",
          "name": "stdout",
          "text": [
            "Epoch [2/10] Loss: 0.3576\n"
          ]
        },
        {
          "output_type": "stream",
          "name": "stderr",
          "text": [
            "Epoch 3/10: 100%|██████████| 1875/1875 [00:18<00:00, 103.79it/s]\n"
          ]
        },
        {
          "output_type": "stream",
          "name": "stdout",
          "text": [
            "Epoch [3/10] Loss: 0.3040\n"
          ]
        },
        {
          "output_type": "stream",
          "name": "stderr",
          "text": [
            "Epoch 4/10: 100%|██████████| 1875/1875 [00:18<00:00, 101.57it/s]\n"
          ]
        },
        {
          "output_type": "stream",
          "name": "stdout",
          "text": [
            "Epoch [4/10] Loss: 0.2631\n"
          ]
        },
        {
          "output_type": "stream",
          "name": "stderr",
          "text": [
            "Epoch 5/10: 100%|██████████| 1875/1875 [00:18<00:00, 99.63it/s] \n"
          ]
        },
        {
          "output_type": "stream",
          "name": "stdout",
          "text": [
            "Epoch [5/10] Loss: 0.2330\n"
          ]
        },
        {
          "output_type": "stream",
          "name": "stderr",
          "text": [
            "Epoch 6/10: 100%|██████████| 1875/1875 [00:18<00:00, 99.33it/s] \n"
          ]
        },
        {
          "output_type": "stream",
          "name": "stdout",
          "text": [
            "Epoch [6/10] Loss: 0.2091\n"
          ]
        },
        {
          "output_type": "stream",
          "name": "stderr",
          "text": [
            "Epoch 7/10: 100%|██████████| 1875/1875 [00:18<00:00, 100.68it/s]\n"
          ]
        },
        {
          "output_type": "stream",
          "name": "stdout",
          "text": [
            "Epoch [7/10] Loss: 0.1907\n"
          ]
        },
        {
          "output_type": "stream",
          "name": "stderr",
          "text": [
            "Epoch 8/10: 100%|██████████| 1875/1875 [00:19<00:00, 97.68it/s]\n"
          ]
        },
        {
          "output_type": "stream",
          "name": "stdout",
          "text": [
            "Epoch [8/10] Loss: 0.1746\n"
          ]
        },
        {
          "output_type": "stream",
          "name": "stderr",
          "text": [
            "Epoch 9/10: 100%|██████████| 1875/1875 [00:19<00:00, 94.66it/s] \n"
          ]
        },
        {
          "output_type": "stream",
          "name": "stdout",
          "text": [
            "Epoch [9/10] Loss: 0.1622\n"
          ]
        },
        {
          "output_type": "stream",
          "name": "stderr",
          "text": [
            "Epoch 10/10: 100%|██████████| 1875/1875 [00:18<00:00, 99.35it/s]\n"
          ]
        },
        {
          "output_type": "stream",
          "name": "stdout",
          "text": [
            "Epoch [10/10] Loss: 0.1516\n",
            "Accuracy on the test data: 95.28%\n",
            "Number of misclassifications on the test data: 472\n"
          ]
        }
      ]
    },
    {
      "cell_type": "code",
      "source": [
        "from google.colab import drive\n",
        "drive.mount('/content/drive')"
      ],
      "metadata": {
        "colab": {
          "base_uri": "https://localhost:8080/"
        },
        "id": "Foci7R3pdGzr",
        "outputId": "05c3d142-ab60-47fd-fb0a-bca6dfc13ee2"
      },
      "execution_count": null,
      "outputs": [
        {
          "output_type": "stream",
          "name": "stdout",
          "text": [
            "Mounted at /content/drive\n"
          ]
        }
      ]
    },
    {
      "cell_type": "code",
      "source": [
        "torch.save(teachernetwork.state_dict(), 'teacher_model.pth')\n"
      ],
      "metadata": {
        "id": "qc4p4moHbIgn"
      },
      "execution_count": null,
      "outputs": []
    },
    {
      "cell_type": "code",
      "source": [
        "# Create data loaders\n",
        "batch_size = 32\n",
        "train_loader = torch.utils.data.DataLoader(train_dataset, batch_size=batch_size, shuffle=True)\n",
        "test_loader = torch.utils.data.DataLoader(test_dataset, batch_size=batch_size, shuffle=False)\n",
        "\n",
        "\n",
        "\n",
        "# Create and load the Teacher model\n",
        "# Define the network architecture\n",
        "input_size = 784  # MNIST images are 28x28 pixels\n",
        "hidden1_size = 1024\n",
        "hidden2_size = 512\n",
        "output_size = 10  # 10 classes (digits 0-9)\n",
        "teacher_model = TeacherNetwork(input_size, hidden1_size, hidden2_size, output_size)\n",
        "teacher_model.load_state_dict(torch.load(\"teacher_model.pth\"))  # Load the pre-trained Teacher model\n",
        "\n",
        "# Define the network architecture\n",
        "input_size = 784  # MNIST images are 28x28 pixels\n",
        "hidden1_size = 128\n",
        "hidden2_size = 64\n",
        "output_size = 10  # 10 classes (digits 0-9)\n",
        "\n",
        "# Create the Student's neural network\n",
        "student_model = StudentNetwork(input_size, hidden1_size, hidden2_size, output_size)\n",
        "\n",
        "# Loss and optimizer for Student training\n",
        "criterion = nn.MSELoss()  # Use Mean Squared Error loss\n",
        "optimizer = optim.SGD(student_model.parameters(), lr=0.01)\n",
        "\n",
        "# Training settings\n",
        "num_epochs = 10\n",
        "misclassifications = 0  # Counter for misclassifications\n",
        "history_kd=[]\n",
        "# Training loop\n",
        "for epoch in range(num_epochs):\n",
        "    student_model.train()\n",
        "    running_loss = 0.0\n",
        "\n",
        "    for inputs, _ in tqdm(train_loader, desc=f\"Epoch {epoch + 1}/{num_epochs}\"):\n",
        "        optimizer.zero_grad()\n",
        "        student_outputs = student_model(inputs.view(-1, 784))\n",
        "        # Use the teacher model to obtain logits\n",
        "        with torch.no_grad():\n",
        "            teacher_logits = teacher_model(inputs.view(-1, 784))\n",
        "        loss = criterion(student_outputs, teacher_logits)  # Use the teacher's logits for loss\n",
        "        loss.backward()\n",
        "        optimizer.step()\n",
        "        running_loss += loss.item()\n",
        "\n",
        "    print(f\"Epoch [{epoch + 1}/{num_epochs}] Loss: {running_loss/ len(train_loader):.4f}\")\n",
        "    student_model.eval()\n",
        "    running_loss = 0.0\n",
        "    correct_test = 0\n",
        "    total_test = 0\n",
        "\n",
        "    with torch.no_grad():\n",
        "        for inputs, correct_labels in train_loader:\n",
        "            outputs = student_model(inputs.view(-1, 784))\n",
        "            labels = teacher_model(inputs.view(-1, 784))\n",
        "            loss = criterion(outputs, labels)\n",
        "            running_loss += loss.item()\n",
        "\n",
        "            _, predicted = torch.max(outputs.data, 1)\n",
        "            total_test += labels.size(0)\n",
        "            correct_test += (predicted == correct_labels).sum().item()\n",
        "\n",
        "    test_loss = running_loss / len(train_loader)\n",
        "    test_accuracy = 100 * correct_test / total_test\n",
        "    history_kd.append(test_accuracy)\n",
        "\n",
        "# Evaluation on test data\n",
        "student_model.eval()\n",
        "correct = 0\n",
        "total = 0\n",
        "\n",
        "with torch.no_grad():\n",
        "    for inputs, labels in test_loader:\n",
        "        outputs = student_model(inputs.view(-1, 784))\n",
        "        _, predicted = torch.max(outputs.data, 1)\n",
        "        total += labels.size(0)\n",
        "        correct += (predicted == labels).sum().item()\n",
        "        misclassifications += (predicted != labels).sum().item()\n",
        "\n",
        "test_accuracy = 100 * correct / total\n",
        "\n",
        "print(f\"Accuracy on the test data: {test_accuracy:.2f}%\")\n",
        "print(f\"Number of misclassifications on the test data: {misclassifications}\")\n"
      ],
      "metadata": {
        "colab": {
          "base_uri": "https://localhost:8080/"
        },
        "id": "h4RXiyL-PC94",
        "outputId": "c4728a9c-70e9-4fd2-ef87-a69399e1ed79"
      },
      "execution_count": null,
      "outputs": [
        {
          "output_type": "stream",
          "name": "stderr",
          "text": [
            "Epoch 1/10: 100%|██████████| 1875/1875 [00:22<00:00, 84.87it/s]\n"
          ]
        },
        {
          "output_type": "stream",
          "name": "stdout",
          "text": [
            "Epoch [1/10] Loss: 2.1808\n"
          ]
        },
        {
          "output_type": "stream",
          "name": "stderr",
          "text": [
            "Epoch 2/10: 100%|██████████| 1875/1875 [00:21<00:00, 87.56it/s]\n"
          ]
        },
        {
          "output_type": "stream",
          "name": "stdout",
          "text": [
            "Epoch [2/10] Loss: 0.3415\n"
          ]
        },
        {
          "output_type": "stream",
          "name": "stderr",
          "text": [
            "Epoch 3/10: 100%|██████████| 1875/1875 [00:21<00:00, 86.42it/s]\n"
          ]
        },
        {
          "output_type": "stream",
          "name": "stdout",
          "text": [
            "Epoch [3/10] Loss: 0.2221\n"
          ]
        },
        {
          "output_type": "stream",
          "name": "stderr",
          "text": [
            "Epoch 4/10: 100%|██████████| 1875/1875 [00:21<00:00, 86.44it/s]\n"
          ]
        },
        {
          "output_type": "stream",
          "name": "stdout",
          "text": [
            "Epoch [4/10] Loss: 0.1770\n"
          ]
        },
        {
          "output_type": "stream",
          "name": "stderr",
          "text": [
            "Epoch 5/10: 100%|██████████| 1875/1875 [00:21<00:00, 86.31it/s]\n"
          ]
        },
        {
          "output_type": "stream",
          "name": "stdout",
          "text": [
            "Epoch [5/10] Loss: 0.1488\n"
          ]
        },
        {
          "output_type": "stream",
          "name": "stderr",
          "text": [
            "Epoch 6/10: 100%|██████████| 1875/1875 [00:21<00:00, 86.86it/s]\n"
          ]
        },
        {
          "output_type": "stream",
          "name": "stdout",
          "text": [
            "Epoch [6/10] Loss: 0.1321\n"
          ]
        },
        {
          "output_type": "stream",
          "name": "stderr",
          "text": [
            "Epoch 7/10: 100%|██████████| 1875/1875 [00:21<00:00, 86.58it/s]\n"
          ]
        },
        {
          "output_type": "stream",
          "name": "stdout",
          "text": [
            "Epoch [7/10] Loss: 0.1184\n"
          ]
        },
        {
          "output_type": "stream",
          "name": "stderr",
          "text": [
            "Epoch 8/10: 100%|██████████| 1875/1875 [00:21<00:00, 86.13it/s]\n"
          ]
        },
        {
          "output_type": "stream",
          "name": "stdout",
          "text": [
            "Epoch [8/10] Loss: 0.1109\n"
          ]
        },
        {
          "output_type": "stream",
          "name": "stderr",
          "text": [
            "Epoch 9/10: 100%|██████████| 1875/1875 [00:22<00:00, 84.19it/s]\n"
          ]
        },
        {
          "output_type": "stream",
          "name": "stdout",
          "text": [
            "Epoch [9/10] Loss: 0.1033\n"
          ]
        },
        {
          "output_type": "stream",
          "name": "stderr",
          "text": [
            "Epoch 10/10: 100%|██████████| 1875/1875 [00:22<00:00, 84.08it/s]\n"
          ]
        },
        {
          "output_type": "stream",
          "name": "stdout",
          "text": [
            "Epoch [10/10] Loss: 0.0972\n",
            "Accuracy on the test data: 94.64%\n",
            "Number of misclassifications on the test data: 536\n"
          ]
        }
      ]
    },
    {
      "cell_type": "code",
      "source": [
        "epochs = list(range(1, len(history_kd) + 1))\n",
        "\n",
        "# Plot accuracy for history_kd\n",
        "plt.plot(epochs, history_kd, label='Knowledge Distillation', marker='o')\n",
        "\n",
        "# Plot accuracy for history\n",
        "plt.plot(epochs, history_student, label='Regular Training', marker='o')\n",
        "\n",
        "# Set plot labels and legend\n",
        "plt.xlabel('Epoch')\n",
        "plt.ylabel('Accuracy')\n",
        "plt.title('Accuracy vs. Epoch')\n",
        "plt.legend()\n",
        "\n",
        "# Show the plot\n",
        "plt.show()"
      ],
      "metadata": {
        "colab": {
          "base_uri": "https://localhost:8080/",
          "height": 472
        },
        "id": "YkC3Pbvav2eS",
        "outputId": "f6893acc-1eba-4adf-b118-1bb17d600480"
      },
      "execution_count": null,
      "outputs": [
        {
          "output_type": "display_data",
          "data": {
            "text/plain": [
              "<Figure size 640x480 with 1 Axes>"
            ],
            "image/png": "[encoded data removed]"
          },
          "metadata": {}
        }
      ]
    }
  ]
}